{
 "cells": [
  {
   "cell_type": "markdown",
   "id": "fb1c2ede-b5ca-44f4-a7d6-0eef75852bd4",
   "metadata": {},
   "source": [
    "To install the cert-manager chart, we first must add the Jetstack Helm repository:"
   ]
  },
  {
   "cell_type": "code",
   "execution_count": 2,
   "id": "d9a8ceab-f721-4c76-bdef-2d31bb069b24",
   "metadata": {},
   "outputs": [
    {
     "name": "stdout",
     "output_type": "stream",
     "text": [
      "\"jetstack\" already exists with the same configuration, skipping\n"
     ]
    }
   ],
   "source": [
    "helm repo add jetstack https://charts.jetstack.io"
   ]
  },
  {
   "cell_type": "markdown",
   "id": "a27c51af-7fb6-4725-8987-bd9b496bf3e0",
   "metadata": {},
   "source": [
    "Next we install cert-manager from the official Helm chart, with a few custom values in our local .yaml file:"
   ]
  },
  {
   "cell_type": "code",
   "execution_count": 2,
   "id": "925215de-1e80-48e1-86db-38c3502f4df5",
   "metadata": {},
   "outputs": [
    {
     "name": "stdout",
     "output_type": "stream",
     "text": [
      "Release \"cert-manager\" has been upgraded. Happy Helming!\n",
      "NAME: cert-manager\n",
      "LAST DEPLOYED: Mon Mar  7 16:02:25 2022\n",
      "NAMESPACE: cert-manager\n",
      "STATUS: deployed\n",
      "REVISION: 2\n",
      "TEST SUITE: None\n",
      "NOTES:\n",
      "cert-manager v1.7.1 has been deployed successfully!\n",
      "\n",
      "In order to begin issuing certificates, you will need to set up a ClusterIssuer\n",
      "or Issuer resource (for example, by creating a 'letsencrypt-staging' issuer).\n",
      "\n",
      "More information on the different types of issuers and how to configure them\n",
      "can be found in our documentation:\n",
      "\n",
      "https://cert-manager.io/docs/configuration/\n",
      "\n",
      "For information on how to configure cert-manager to automatically provision\n",
      "Certificates for Ingress resources, take a look at the `ingress-shim`\n",
      "documentation:\n",
      "\n",
      "https://cert-manager.io/docs/usage/ingress/\n"
     ]
    }
   ],
   "source": [
    "helm upgrade --install cert-manager jetstack/cert-manager -n cert-manager --create-namespace -f values.cert-manager.yaml"
   ]
  },
  {
   "cell_type": "markdown",
   "id": "b1d34e75-f127-4997-92c4-138a4d49fd32",
   "metadata": {},
   "source": [
    "Our DNS provider, Cloudflare, supports the ACME standard for issuing TLS certificates, which includes the DNS-01 method to prove domain ownership.  With Cloudflare, we use an API token for our DNS account to create a DNS TXT entry (essentially, a note that has no effects).  Cert-manager sets a special value in a DNS TXT entry, and then checks a public DNS server to ensure that the field has been set.  Once this check is complete, ownership of the domain has been proven and cert-manager is allowed to issue TLS certificates.\n",
    "\n",
    "To begin this process, we must first install a Cloudflare-issued API token as a secret to Kubernetes, as outlined at https://cert-manager.io/docs/configuration/acme/dns01/cloudflare/ (for other DNS providers, see the [cert-manager documentation](https://cert-manager.io/docs/configuration/acme/dns01/):"
   ]
  },
  {
   "cell_type": "code",
   "execution_count": 3,
   "id": "596902cd-6b6e-4550-a00f-30db88d9334a",
   "metadata": {},
   "outputs": [
    {
     "name": "stdout",
     "output_type": "stream",
     "text": [
      "secret/cloudflare-api-token-secret created\n"
     ]
    }
   ],
   "source": [
    "kubectl apply -f secret.yaml"
   ]
  },
  {
   "cell_type": "markdown",
   "id": "9af5d05a-97ca-4b25-ac1c-5160a467ad86",
   "metadata": {},
   "source": [
    "Next we must setup an Issuer or a ClusterIssuer.  These define the TLS issuer process--in our case, using the DNS-01 specification defined by the ACME protocol.  An Issuer works only for a single k8s Namespace, while a ClusterIssuer works across any namespace.  Here we define a ClusterIssuer that can issue certificates for the DNS Zone \"k8s.nephtek.com\", which includes all DNS subdomains under, and including, \"k8s.nephtek.com\".  The ClusterIssuer is configured to use the secret, \"cloudflare-api-token-secret\", that we just created, for the API token required by Cloudflare.  Finally, the ClusterIssuer includes an email address to notify when there are problems with a certificate, such as if a certificate must be revoked, or a certificate is about to expire and has not been renewed."
   ]
  },
  {
   "cell_type": "code",
   "execution_count": 4,
   "id": "cc4d3bd8-4a3c-4516-97b0-faf09807e5a5",
   "metadata": {},
   "outputs": [
    {
     "name": "stdout",
     "output_type": "stream",
     "text": [
      "clusterissuer.cert-manager.io/nephtek-com-issuer unchanged\n"
     ]
    }
   ],
   "source": [
    "kubectl apply -f clusterissuer.yaml"
   ]
  },
  {
   "cell_type": "markdown",
   "id": "8cf20b0e-3a57-40a2-8bda-b8e80e854a3f",
   "metadata": {},
   "source": [
    "Once the ClusterIssuer is Ready, we can request TLS certificates to be issued by the ClusterIssuer.  Since we used the DNS-01 specification, we even can request wildcard certificates.  This certificate works for the base domain, k8s.nephtek.com, and any subdomain immediately under k8s.nephtek.com:"
   ]
  },
  {
   "cell_type": "code",
   "execution_count": 5,
   "id": "a466ed7b-60c2-4e9b-b36b-c3d8b49a9542",
   "metadata": {},
   "outputs": [
    {
     "name": "stdout",
     "output_type": "stream",
     "text": [
      "certificate.cert-manager.io/k8s-nephtek-com created\n"
     ]
    }
   ],
   "source": [
    "kubectl apply -f certificate.yaml"
   ]
  },
  {
   "cell_type": "markdown",
   "id": "f415ab07-e287-4a32-98ff-27cde08e9027",
   "metadata": {},
   "source": [
    "It takes several minutes to complete the TLS issuing process.  While this process is in progress, you can get or describe your certificate to see if it is ready:"
   ]
  },
  {
   "cell_type": "code",
   "execution_count": 6,
   "id": "6cd19623-0508-4e57-a607-160aacf5fcbf",
   "metadata": {},
   "outputs": [
    {
     "name": "stdout",
     "output_type": "stream",
     "text": [
      "NAME                       READY   SECRET                  AGE\n",
      "keycloak-k8s-nephtek-com   True    sso-x509-https-secret   36m\n",
      "k8s-nephtek-com            False   k8s-nephtek-com-tls     20s\n"
     ]
    }
   ],
   "source": [
    "kubectl get certificate"
   ]
  },
  {
   "cell_type": "markdown",
   "id": "9b6ee5e2-43d3-41c5-b46d-a33370153873",
   "metadata": {},
   "source": [
    "If the certificate is not yet ready, there should be an Order associated with it that is in a 'pending' state:"
   ]
  },
  {
   "cell_type": "code",
   "execution_count": 7,
   "id": "d08dd0bb-bd50-4649-ae46-f2e25720db3f",
   "metadata": {},
   "outputs": [
    {
     "name": "stdout",
     "output_type": "stream",
     "text": [
      "NAME                                       STATE     AGE\n",
      "keycloak-k8s-nephtek-com-5bc4j-997927255   valid     36m\n",
      "k8s-nephtek-com-flzxc-287383746            pending   25s\n"
     ]
    }
   ],
   "source": [
    "kubectl get order"
   ]
  },
  {
   "cell_type": "markdown",
   "id": "a91ca6c3-ece5-4585-9849-2cce71fafc14",
   "metadata": {},
   "source": [
    "Subsequently, there also will be a Challenge for each DNS name in the certificate request.  Since we are requesting a certificate that is valid for both \"\\*.k8s.nephtek.com\" and \"k8s.nephtek.com\", we have two challenges for this certificate:"
   ]
  },
  {
   "cell_type": "code",
   "execution_count": 8,
   "id": "5e3739fd-10f7-4625-98ad-ad3c350e3075",
   "metadata": {},
   "outputs": [
    {
     "name": "stdout",
     "output_type": "stream",
     "text": [
      "NAME                                         STATE     DOMAIN            AGE\n",
      "k8s-nephtek-com-flzxc-287383746-4001887644             k8s.nephtek.com   30s\n",
      "k8s-nephtek-com-flzxc-287383746-2388122080   pending   k8s.nephtek.com   30s\n"
     ]
    }
   ],
   "source": [
    "kubectl get challenge"
   ]
  },
  {
   "cell_type": "markdown",
   "id": "a365faac-ff23-4bdd-b49d-c852d35410d2",
   "metadata": {},
   "source": [
    "Once the process is complete, usually in about 2-5 minutes, the Challenge will disappear:"
   ]
  },
  {
   "cell_type": "code",
   "execution_count": 9,
   "id": "887d2c07-f4e1-4916-9682-9908edcac432",
   "metadata": {},
   "outputs": [
    {
     "name": "stdout",
     "output_type": "stream",
     "text": [
      "No resources found in keycloak namespace.\n"
     ]
    }
   ],
   "source": [
    "kubectl get challenge"
   ]
  },
  {
   "cell_type": "markdown",
   "id": "4bcbec54-ef7d-4655-b748-e8378a620b91",
   "metadata": {},
   "source": [
    "...and the order will move from 'pending' to 'valid':"
   ]
  },
  {
   "cell_type": "code",
   "execution_count": null,
   "id": "ae95e5f0-0d48-4ab5-902b-8c594cf125e2",
   "metadata": {},
   "outputs": [
    {
     "name": "stdout",
     "output_type": "stream",
     "text": [
      "NAME                                       STATE   AGE\n",
      "keycloak-k8s-nephtek-com-5bc4j-997927255   valid   41m\n",
      "k8s-nephtek-com-flzxc-287383746            valid   4m27s\n"
     ]
    }
   ],
   "source": [
    "kubectl get Order"
   ]
  },
  {
   "cell_type": "markdown",
   "id": "f8d457f2-bddf-4f27-9524-2eb17c909d22",
   "metadata": {},
   "source": [
    "...and the Certificate readiness will move from 'False' to 'True':"
   ]
  },
  {
   "cell_type": "code",
   "execution_count": 12,
   "id": "89dbaf99-d680-4b5c-a79d-289f4ee4787b",
   "metadata": {},
   "outputs": [
    {
     "name": "stdout",
     "output_type": "stream",
     "text": [
      "NAME                       READY   SECRET                  AGE\n",
      "keycloak-k8s-nephtek-com   True    sso-x509-https-secret   41m\n",
      "k8s-nephtek-com            True    k8s-nephtek-com-tls     4m41s\n"
     ]
    }
   ],
   "source": [
    "kubectl get cert"
   ]
  },
  {
   "cell_type": "markdown",
   "id": "df810eaf-b994-4c2c-b6df-d497ab4fcc46",
   "metadata": {},
   "source": [
    "When this is complete, the contents of the secret will contain a valid TLS certificate:"
   ]
  },
  {
   "cell_type": "code",
   "execution_count": 13,
   "id": "59b0ee22-2537-4c75-8a14-f96466adcbab",
   "metadata": {},
   "outputs": [
    {
     "name": "stdout",
     "output_type": "stream",
     "text": [
      "Name:         k8s-nephtek-com-tls\n",
      "Namespace:    keycloak\n",
      "Labels:       <none>\n",
      "Annotations:  cert-manager.io/alt-names: *.k8s.nephtek.com,k8s.nephtek.com\n",
      "              cert-manager.io/certificate-name: k8s-nephtek-com\n",
      "              cert-manager.io/common-name: *.k8s.nephtek.com\n",
      "              cert-manager.io/ip-sans: \n",
      "              cert-manager.io/issuer-group: cert-manager.io\n",
      "              cert-manager.io/issuer-kind: ClusterIssuer\n",
      "              cert-manager.io/issuer-name: nephtek-com-issuer\n",
      "              cert-manager.io/uri-sans: \n",
      "\n",
      "Type:  kubernetes.io/tls\n",
      "\n",
      "Data\n",
      "====\n",
      "tls.crt:  5623 bytes\n",
      "tls.key:  1675 bytes\n"
     ]
    }
   ],
   "source": [
    "kubectl describe secret k8s-nephtek-com-tls"
   ]
  },
  {
   "cell_type": "code",
   "execution_count": null,
   "id": "e5c453c0-e55e-4402-9462-7904085830cb",
   "metadata": {},
   "outputs": [],
   "source": []
  }
 ],
 "metadata": {
  "kernelspec": {
   "display_name": "Bash",
   "language": "bash",
   "name": "bash"
  },
  "language_info": {
   "codemirror_mode": "shell",
   "file_extension": ".sh",
   "mimetype": "text/x-sh",
   "name": "bash"
  }
 },
 "nbformat": 4,
 "nbformat_minor": 5
}
