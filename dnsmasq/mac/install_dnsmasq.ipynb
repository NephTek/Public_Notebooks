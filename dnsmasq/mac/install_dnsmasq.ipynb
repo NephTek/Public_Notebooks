{
 "cells": [
  {
   "cell_type": "markdown",
   "id": "d54af18f-6cf7-4a67-9dd3-41445cc370f1",
   "metadata": {},
   "source": [
    "# DNSmasq\n",
    "\n",
    "DNSmasq provides a local DNS server, allowing you to resolve private DNS entires, including wildcards, to localhost for a development cluster.   This allows us to closely mimic a production environment for local testing.  For valid URLs owned by our organization, we can also setup valid TLS certificates and perform full L7 routing to our cluster, allowing us to expose many applications running in a local cluster for development and testing.\n",
    "\n",
    "## Prerequisiites\n",
    "- [Learning Jupyter](../../getting-started/learning_jupyter.ipynb)\n",
    "- Install Jupyter bash kernel:\n",
    "  - Windows... coming soon!\n",
    "  - [Mac](../../getting-started/mac/install_jupyter_bash_kernel.ipynb)\n",
    "  - [Linux](../../getting-started/linux/install_jupyter_bash_kernel.ipynb)\n",
    "- [Install Kubernetes](../../kubernetes/install_k8s_cluster.ipynb)\n",
    "\n",
    "## Install DNSmasq \n",
    "Since we're on a Mac, we're going to use 'brew' to install it:"
   ]
  },
  {
   "cell_type": "markdown",
   "id": "d7976080-ca61-46c2-8d8c-3c46db814c24",
   "metadata": {},
   "source": [
    "<div class=\"alert alert-block alert-info\">\n",
    "    <b>Note: </b> \n",
    "If you do not already have Homebrew for MacOS, install this first using the following link:\n",
    "https://brew.sh/\n",
    "</div>"
   ]
  },
  {
   "cell_type": "code",
   "execution_count": null,
   "id": "0e168959-6411-4b4f-8b8d-1265eac00801",
   "metadata": {},
   "outputs": [],
   "source": [
    "brew install dnsmasq"
   ]
  },
  {
   "cell_type": "code",
   "execution_count": null,
   "id": "28278f05-43f4-4c3e-bf5d-42df0e720849",
   "metadata": {},
   "outputs": [],
   "source": [
    "brew list | grep -i dnsmasq"
   ]
  },
  {
   "cell_type": "markdown",
   "id": "8189738d-5355-4f8a-a6bb-64363b813016",
   "metadata": {},
   "source": [
    "### Create passsowrd file for scripts\n",
    "In your Jupyter notebook working directory, create a file called \"password\" and put your root password in this file. \n",
    "\n",
    "<div class=\"alert alert-block alert-info\">\n",
    "    <b>Note: </b> \n",
    "    This is to enable Jupyter notebook to execute sudo commands without exposing your root password or storing it in your machines CLI history while creating a variable. It can be deleted afterwards and there is step included in this notebook to do so. \n",
    "</div>\n",
    "\n",
    "You can see your Jupyter notebook working directory by executing the following:"
   ]
  },
  {
   "cell_type": "code",
   "execution_count": null,
   "id": "99caacda-d2e3-4c58-9152-c4de9d3beae7",
   "metadata": {},
   "outputs": [],
   "source": [
    "pwd"
   ]
  },
  {
   "cell_type": "markdown",
   "id": "ad07305c-22a0-45f2-b662-27c9733f7e07",
   "metadata": {},
   "source": [
    "## Configure wildcard DNS entry\n",
    "Next we will add a rule to the configuration for dnsmasq that routes any URL ending in *.k8s.example.com* to 127.0.0.1.  The code below checks first to see if that line already exists and adds it if it does not:"
   ]
  },
  {
   "cell_type": "code",
   "execution_count": null,
   "id": "dd15d56a-fe37-4208-a288-6703076d22a0",
   "metadata": {},
   "outputs": [],
   "source": [
    "if grep -Fxq \"address=/.k8s.example.com/127.0.0.1\" /opt/homebrew/etc/dnsmasq.conf\n",
    "then\n",
    "    echo \"DNSMasq rule for .k8s.example.com top-level domain already exists\"\n",
    "else\n",
    "    cat password | sudo -S echo \"address=/.k8s.example.com/127.0.0.1\" >> /opt/homebrew/etc/dnsmasq.conf\n",
    "    grep \"address=/.k8s.example.com/127.0.0.1\" /opt/homebrew/etc/dnsmasq.conf\n",
    "fi"
   ]
  },
  {
   "cell_type": "markdown",
   "id": "9f42d473-2d28-4cf4-9c2d-7a9402d8914f",
   "metadata": {},
   "source": [
    "From here we will need to use *brew* to restart the dnsmasq service so that the new configuration can be loaded & used:"
   ]
  },
  {
   "cell_type": "code",
   "execution_count": null,
   "id": "abded43d-4c66-45ba-89b5-638c7dcdc2e5",
   "metadata": {},
   "outputs": [],
   "source": [
    "cat password | sudo -S brew services restart dnsmasq"
   ]
  },
  {
   "cell_type": "markdown",
   "id": "dd34ad39-281f-4926-8cde-798ca1f056f9",
   "metadata": {},
   "source": [
    "<br>\n",
    "\n",
    "Use `dig` to test that URLs ending in `.k8s.example.com` resolve to 127.0.0.1 on the DNS server running at 127.0.0.1.  The `@127.0.0.1` option tells dig to use the DNS server running on localhost, the `dnsmasq` service we started earlier.  Note that the `ANSWER SECTION` provides the response for `fubar.k8s.example.com` as `127.0.0.1`."
   ]
  },
  {
   "cell_type": "code",
   "execution_count": 1,
   "id": "f1bc77a6-204c-442a-8616-6a5bee84fe3e",
   "metadata": {},
   "outputs": [
    {
     "name": "stdout",
     "output_type": "stream",
     "text": [
      "\n",
      "; <<>> DiG 9.10.6 <<>> @127.0.0.1 test.k8s.example.com\n",
      "; (1 server found)\n",
      ";; global options: +cmd\n",
      ";; Got answer:\n",
      ";; ->>HEADER<<- opcode: QUERY, status: NOERROR, id: 14900\n",
      ";; flags: qr aa rd ra; QUERY: 1, ANSWER: 1, AUTHORITY: 0, ADDITIONAL: 1\n",
      "\n",
      ";; OPT PSEUDOSECTION:\n",
      "; EDNS: version: 0, flags:; udp: 4096\n",
      ";; QUESTION SECTION:\n",
      ";test.k8s.example.com.\t\tIN\tA\n",
      "\n",
      ";; ANSWER SECTION:\n",
      "test.k8s.example.com.\t0\tIN\tA\t127.0.0.1\n",
      "\n",
      ";; Query time: 0 msec\n",
      ";; SERVER: 127.0.0.1#53(127.0.0.1)\n",
      ";; WHEN: Mon Mar 07 09:54:07 CST 2022\n",
      ";; MSG SIZE  rcvd: 65\n",
      "\n"
     ]
    }
   ],
   "source": [
    "dig @127.0.0.1 test.k8s.example.com"
   ]
  },
  {
   "cell_type": "markdown",
   "id": "3db9dae3-26da-48a0-a811-17d4010bc874",
   "metadata": {},
   "source": [
    "## Setup Mac DNS resolver\n",
    "\n",
    "Next, we'll want to override the Mac's DNS resolver for all URLs ending in `.k8s.example.com`, sending only those URLs to our dnsmasq service.  The mac uses \"/etc/resolver\" for this purpose.  This will allow us to use any browser, such as Chrome or Safari, to use `dnsmasq` to resolve URLs ending in `.k8s.example.com`.\n",
    "\n",
    "If there is a file in `/etc/resolver` with a filename that matches the end of the URL, then the contents of that file will identify the DNS server to use for that URL.  In our case, we create a file named `/etc/resolver/k8s.example.com` that configures handling of all URLs ending in `.k8s.example.com`, a fictitious top-level domain that I created for test purposes.  This easily could be a subdomain of an actual domain owned by the cluster operator (for example, to listen to any URLs ending in `.k8s.example.com`, the full filename would be `/etc/resolver/k8s.example.com`"
   ]
  },
  {
   "cell_type": "code",
   "execution_count": null,
   "id": "af4c84e6-8621-400a-830f-cb272478da88",
   "metadata": {},
   "outputs": [],
   "source": [
    "cat password | sudo -S mkdir -p /etc/resolver"
   ]
  },
  {
   "cell_type": "code",
   "execution_count": null,
   "id": "c0cbe43e-a3fc-45ff-af81-28a15555feee",
   "metadata": {},
   "outputs": [],
   "source": [
    "if grep -Fxq \"nameserver 127.0.0.1\" /etc/resolver/k8s.example.com\n",
    "then\n",
    "    echo \"MacOS DNS resolver for .k8s.example.com top-level domain already defers to localhost\"\n",
    "else\n",
    "    cat password | sudo -S sh -c 'echo \"nameserver 127.0.0.1\" >> /etc/resolver/k8s.example.com'\n",
    "    cat /etc/resolver/k8s.example.com\n",
    "fi"
   ]
  },
  {
   "cell_type": "markdown",
   "id": "4dc45a3b-320b-45c8-b992-212ccc28f13b",
   "metadata": {},
   "source": [
    "### Cleanup - remove password File"
   ]
  },
  {
   "cell_type": "code",
   "execution_count": null,
   "id": "02b362bf-9644-41a9-8635-83d8d867df13",
   "metadata": {},
   "outputs": [],
   "source": [
    "rm password"
   ]
  },
  {
   "cell_type": "markdown",
   "id": "dcdc0ce1-784e-4140-832d-a4d032c278de",
   "metadata": {},
   "source": [
    "### Finished \n",
    "\n",
    "You now have configured DNSmasq.\n",
    "\n",
    "### Next Steps\n",
    "- [Install Monitoring](../../monitoring/install_kube-prometheus-stack.ipynb)\n"
   ]
  }
 ],
 "metadata": {
  "kernelspec": {
   "display_name": "Bash",
   "language": "bash",
   "name": "bash"
  },
  "language_info": {
   "codemirror_mode": "shell",
   "file_extension": ".sh",
   "mimetype": "text/x-sh",
   "name": "bash"
  }
 },
 "nbformat": 4,
 "nbformat_minor": 5
}
