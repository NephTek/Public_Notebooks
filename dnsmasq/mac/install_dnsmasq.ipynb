{
 "cells": [
  {
   "cell_type": "markdown",
   "id": "1212e337",
   "metadata": {},
   "source": [
    "# DNSmasq\n",
    "\n",
    "DNSmasq provides a local DNS server, allowing you to resolve private DNS entires, including wildcards, to localhost for a development cluster.   This allows us to closely mimic a production environment for local testing.  For valid URLs owned by our organization, we can also setup valid TLS certificates and perform full L7 routing to our cluster, allowing us to expose many applications running in a local cluster for development and testing.\n",
    "\n",
    "## Prerequisiites\n",
    "- [Learning Jupyter](https://github.com/NephTek/Public_Notebooks/blob/main/getting-started/learning_jupyter.ipynb)\n",
    "- Install Jupyter bash kernel:\n",
    "  - [Windows](https://github.com/NephTek/Public_Notebooks/blob/main/getting-started/windows/install_jupyter_bash_kernel.ipynb)\n",
    "  - [Mac](https://github.com/NephTek/Public_Notebooks/blob/main/getting-started/mac/install_jupyter_bash_kernel.ipynb)\n",
    "  - [Linux](https://github.com/NephTek/Public_Notebooks/blob/main/getting-started/linux/install_jupyter_bash_kernel.ipynb)\n",
    "- [Install Kubernetes](https://github.com/NephTek/Public_Notebooks/blob/main/kubernetes/install_k8s_cluster.ipynb)\n",
    "\n",
    "## Install DNSmasq \n",
    "Since we're on a Mac, we're going to use 'brew' to install it:"
   ]
  },
  {
   "cell_type": "markdown",
   "id": "046dc308",
   "metadata": {},
   "source": [
    "<div class=\"alert alert-block alert-info\">\n",
    "    <b>Note: </b> \n",
    "If you do not already have Homebrew for MacOS, install this first using the following link:\n",
    "https://brew.sh/\n",
    "</div>"
   ]
  },
  {
   "cell_type": "code",
   "execution_count": null,
   "id": "60f2d29b",
   "metadata": {},
   "outputs": [],
   "source": [
    "brew install dnsmasq"
   ]
  },
  {
   "cell_type": "code",
   "execution_count": null,
   "id": "4dbc3fe6",
   "metadata": {},
   "outputs": [],
   "source": [
    "brew list | grep -i dnsmasq"
   ]
  },
  {
   "cell_type": "markdown",
   "id": "0a60c4d7",
   "metadata": {},
   "source": [
    "### Create passsowrd file for scripts\n",
    "In your Jupyter notebook working directory, create a file called \"password\" and put your root password in this file. \n",
    "\n",
    "<div class=\"alert alert-block alert-info\">\n",
    "    <b>Note: </b> \n",
    "    This is to enable Jupyter notebook to execute sudo commands without exposing your root password or storing it in your machines CLI history while creating a variable. It can be deleted afterwards and there is step included in this notebook to do so. \n",
    "</div>\n",
    "\n",
    "You can see your Jupyter notebook working directory by executing the following:"
   ]
  },
  {
   "cell_type": "code",
   "execution_count": null,
   "id": "78788040",
   "metadata": {},
   "outputs": [],
   "source": [
    "pwd"
   ]
  },
  {
   "cell_type": "markdown",
   "id": "f39ab2bd",
   "metadata": {},
   "source": [
    "## Configure wildcard DNS entry\n",
    "Next we will add a rule to the configuration for dnsmasq that routes any URL ending in *.k8s.example.com* to 127.0.0.1.  The code below checks first to see if that line already exists and adds it if it does not:"
   ]
  },
  {
   "cell_type": "code",
   "execution_count": null,
   "id": "1afa9942",
   "metadata": {},
   "outputs": [],
   "source": [
    "if grep -Fxq \"address=/.k8s.example.com/127.0.0.1\" /opt/homebrew/etc/dnsmasq.conf\n",
    "then\n",
    "    echo \"DNSMasq rule for .k8s.example.com top-level domain already exists\"\n",
    "else\n",
    "    cat password | sudo -S echo \"address=/.k8s.example.com/127.0.0.1\" >> /opt/homebrew/etc/dnsmasq.conf\n",
    "    grep \"address=/.k8s.example.com/127.0.0.1\" /opt/homebrew/etc/dnsmasq.conf\n",
    "fi"
   ]
  },
  {
   "cell_type": "markdown",
   "id": "cf963405",
   "metadata": {},
   "source": [
    "From here we will need to use *brew* to restart the dnsmasq service so that the new configuration can be loaded & used:"
   ]
  },
  {
   "cell_type": "code",
   "execution_count": null,
   "id": "fe67e087",
   "metadata": {},
   "outputs": [],
   "source": [
    "cat password | sudo -S brew services restart dnsmasq"
   ]
  },
  {
   "cell_type": "markdown",
   "id": "ade85cf8",
   "metadata": {},
   "source": [
    "<br>\n",
    "\n",
    "Use `dig` to test that URLs ending in `.k8s.example.com` resolve to 127.0.0.1 on the DNS server running at 127.0.0.1.  The `@127.0.0.1` option tells dig to use the DNS server running on localhost, the `dnsmasq` service we started earlier.  Note that the `ANSWER SECTION` provides the response for `fubar.k8s.example.com` as `127.0.0.1`."
   ]
  },
  {
   "cell_type": "code",
   "execution_count": 1,
   "id": "eec828c2",
   "metadata": {},
   "outputs": [
    {
     "name": "stdout",
     "output_type": "stream",
     "text": [
      "\n",
      "; <<>> DiG 9.10.6 <<>> @127.0.0.1 test.k8s.example.com\n",
      "; (1 server found)\n",
      ";; global options: +cmd\n",
      ";; Got answer:\n",
      ";; ->>HEADER<<- opcode: QUERY, status: NOERROR, id: 14900\n",
      ";; flags: qr aa rd ra; QUERY: 1, ANSWER: 1, AUTHORITY: 0, ADDITIONAL: 1\n",
      "\n",
      ";; OPT PSEUDOSECTION:\n",
      "; EDNS: version: 0, flags:; udp: 4096\n",
      ";; QUESTION SECTION:\n",
      ";test.k8s.example.com.\t\tIN\tA\n",
      "\n",
      ";; ANSWER SECTION:\n",
      "test.k8s.example.com.\t0\tIN\tA\t127.0.0.1\n",
      "\n",
      ";; Query time: 0 msec\n",
      ";; SERVER: 127.0.0.1#53(127.0.0.1)\n",
      ";; WHEN: Mon Mar 07 09:54:07 CST 2022\n",
      ";; MSG SIZE  rcvd: 65\n",
      "\n"
     ]
    }
   ],
   "source": [
    "dig @127.0.0.1 test.k8s.example.com"
   ]
  },
  {
   "cell_type": "markdown",
   "id": "87c63020",
   "metadata": {},
   "source": [
    "## Setup Mac DNS resolver\n",
    "\n",
    "Next, we'll want to override the Mac's DNS resolver for all URLs ending in `.k8s.example.com`, sending only those URLs to our dnsmasq service.  The mac uses \"/etc/resolver\" for this purpose.  This will allow us to use any browser, such as Chrome or Safari, to use `dnsmasq` to resolve URLs ending in `.k8s.example.com`.\n",
    "\n",
    "If there is a file in `/etc/resolver` with a filename that matches the end of the URL, then the contents of that file will identify the DNS server to use for that URL.  In our case, we create a file named `/etc/resolver/k8s.example.com` that configures handling of all URLs ending in `.k8s.example.com`, a fictitious top-level domain that I created for test purposes.  This easily could be a subdomain of an actual domain owned by the cluster operator (for example, to listen to any URLs ending in `.k8s.example.com`, the full filename would be `/etc/resolver/k8s.example.com`"
   ]
  },
  {
   "cell_type": "code",
   "execution_count": null,
   "id": "1ee55ba0",
   "metadata": {},
   "outputs": [],
   "source": [
    "cat password | sudo -S mkdir -p /etc/resolver"
   ]
  },
  {
   "cell_type": "code",
   "execution_count": null,
   "id": "58f0a0d5",
   "metadata": {},
   "outputs": [],
   "source": [
    "if grep -Fxq \"nameserver 127.0.0.1\" /etc/resolver/k8s.example.com\n",
    "then\n",
    "    echo \"MacOS DNS resolver for .k8s.example.com top-level domain already defers to localhost\"\n",
    "else\n",
    "    cat password | sudo -S sh -c 'echo \"nameserver 127.0.0.1\" >> /etc/resolver/k8s.example.com'\n",
    "    cat /etc/resolver/k8s.example.com\n",
    "fi"
   ]
  },
  {
   "cell_type": "markdown",
   "id": "26502ebb",
   "metadata": {},
   "source": [
    "### Cleanup - remove password File"
   ]
  },
  {
   "cell_type": "code",
   "execution_count": null,
   "id": "9a5c9d4b",
   "metadata": {},
   "outputs": [],
   "source": [
    "rm password"
   ]
  },
  {
   "cell_type": "markdown",
   "id": "c40e6572",
   "metadata": {},
   "source": [
    "### Testing\n",
    "We will test that the entire process works from end-to-end by deploying an NGINX pod to our local k8s cluster, exposing it using an Ingress resource, and then access the pod in our web browser:"
   ]
  },
  {
   "cell_type": "code",
   "execution_count": null,
   "id": "2f778514",
   "metadata": {},
   "outputs": [],
   "source": [
    "kubectl create deployment nginx --image=nginx"
   ]
  },
  {
   "cell_type": "code",
   "execution_count": null,
   "id": "9a2cad67",
   "metadata": {},
   "outputs": [],
   "source": [
    "kubectl create service clusterip nginx --tcp=80:80"
   ]
  },
  {
   "cell_type": "code",
   "execution_count": null,
   "id": "27335b6e",
   "metadata": {},
   "outputs": [],
   "source": [
    "cat << EOF > ingress.yaml\n",
    "apiVersion: networking.k8s.io/v1\n",
    "kind: Ingress\n",
    "metadata:\n",
    "  name: nginx\n",
    "  annotations:\n",
    "    ingress.kubernetes.io/ssl-redirect: \"false\"\n",
    "spec:\n",
    "  rules:\n",
    "  - host: nginx.k8s.example.com\n",
    "    http:\n",
    "      paths:\n",
    "      - path: /\n",
    "        pathType: Prefix\n",
    "        backend:\n",
    "          service:\n",
    "            name: nginx\n",
    "            port:\n",
    "              number: 80\n",
    "EOF"
   ]
  },
  {
   "cell_type": "code",
   "execution_count": null,
   "id": "86c1a510",
   "metadata": {},
   "outputs": [],
   "source": [
    "kubectl apply -f ingress.yaml"
   ]
  },
  {
   "cell_type": "markdown",
   "id": "1f122a74",
   "metadata": {},
   "source": [
    "If you are following along with our other notebooks.\n",
    "\n",
    "Recall that when we started our k3d cluster, we mapped the cluster's ingress controller service's ports 80 & 443 to localhost ports 8081 and 8443.  We also configured 'dnsmasq' to resolve all URLs ending in '.k8s.example.com' to 127.0.0.1.  This allows us to use our web browser to visit HTTP & HTTPS services exposed using ingress objects inside our local k3d cluster.\n",
    "\n",
    "Open a browser window to [http://nginx.k8s.example.com:8081](http://nginx.k8s.example.com:8081) and confirm that you can see the NGINX starter page.  Likewise, you will be able to visit https://nginx.k8s.example.com:8443 (after accepting TLS certificate errors) and also see the same page.  Likewise, confirm that http://bad-url.k8s.example.com:8081 also resolves to the ingress controller, but gives a `404 page not found` error.\n",
    "\n",
    "### Cleanup\n",
    "After confirming that the cluster works as expected, let's remove our test instance of nginx:"
   ]
  },
  {
   "cell_type": "code",
   "execution_count": null,
   "id": "760cff90",
   "metadata": {},
   "outputs": [],
   "source": [
    "rm password"
   ]
  },
  {
   "cell_type": "code",
   "execution_count": null,
   "id": "5109cae7",
   "metadata": {},
   "outputs": [],
   "source": [
    "kubectl delete ingress nginx"
   ]
  },
  {
   "cell_type": "code",
   "execution_count": null,
   "id": "084b38f4",
   "metadata": {},
   "outputs": [],
   "source": [
    "kubectl delete service nginx"
   ]
  },
  {
   "cell_type": "code",
   "execution_count": null,
   "id": "2ad43192",
   "metadata": {},
   "outputs": [],
   "source": [
    "kubectl delete deployment nginx"
   ]
  },
  {
   "cell_type": "markdown",
   "id": "a985e813-2496-4681-9b14-31e0c4308aad",
   "metadata": {},
   "source": [
    "### Finished \n",
    "\n",
    "You now have configured DNSmasq.\n",
    "\n",
    "### Next Steps\n",
    "- [Install cert-manager](https://github.com/NephTek/Public_Notebooks/blob/main/cert-manager/install_cert-manager.ipynb)"
   ]
  }
 ],
 "metadata": {
  "kernelspec": {
   "display_name": "Bash",
   "language": "bash",
   "name": "bash"
  },
  "language_info": {
   "codemirror_mode": "shell",
   "file_extension": ".sh",
   "mimetype": "text/x-sh",
   "name": "bash"
  }
 },
 "nbformat": 4,
 "nbformat_minor": 5
}
