{
 "cells": [
  {
   "cell_type": "markdown",
   "id": "8f5c1c31",
   "metadata": {
    "tags": []
   },
   "source": [
    "# Installing the bash kernel for Jupyter\n",
    "\n",
    "The bash kernel for Jupyter provides functionality to run shell scripts.  At NephTek, we use the bash kernel to install and configure both client and server software for Kubernetes.  With Jupyter and the bash kernel, you can run these same scripts locally, installing the same software to your system and to your clusters.\n",
    "\n",
    "## Prerequisiites\n",
    "- [Learning Jupyter](../learning_jupyter.ipynb)\n",
    "\n",
    "## Install the bash kernel\n",
    "Now that we have pip, we can use pip to install the bash kernel:"
   ]
  },
  {
   "cell_type": "code",
   "execution_count": 1,
   "id": "99d34274",
   "metadata": {},
   "outputs": [
    {
     "name": "stdout",
     "output_type": "stream",
     "text": [
      "\u001b[33mDEPRECATION: Configuring installation scheme with distutils config files is deprecated and will no longer work in the near future. If you are using a Homebrew or Linuxbrew Python, please see discussion at https://github.com/Homebrew/homebrew-core/issues/76621\u001b[0m\n",
      "Collecting bash_kernel\n",
      "  Using cached bash_kernel-0.7.2-py2.py3-none-any.whl (15 kB)\n",
      "Requirement already satisfied: pexpect>=4.0 in /opt/homebrew/lib/python3.9/site-packages (from bash_kernel) (4.8.0)\n",
      "Requirement already satisfied: ptyprocess>=0.5 in /opt/homebrew/lib/python3.9/site-packages (from pexpect>=4.0->bash_kernel) (0.7.0)\n",
      "Installing collected packages: bash-kernel\n",
      "\u001b[33m  DEPRECATION: Configuring installation scheme with distutils config files is deprecated and will no longer work in the near future. If you are using a Homebrew or Linuxbrew Python, please see discussion at https://github.com/Homebrew/homebrew-core/issues/76621\u001b[0m\n",
      "\u001b[33mDEPRECATION: Configuring installation scheme with distutils config files is deprecated and will no longer work in the near future. If you are using a Homebrew or Linuxbrew Python, please see discussion at https://github.com/Homebrew/homebrew-core/issues/76621\u001b[0m\n",
      "Successfully installed bash-kernel-0.7.2\n",
      "\u001b[33mWARNING: You are using pip version 21.3.1; however, version 22.0.3 is available.\n",
      "You should consider upgrading via the '/opt/homebrew/opt/python@3.9/bin/python3.9 -m pip install --upgrade pip' command.\u001b[0m\n"
     ]
    }
   ],
   "source": [
    "!pip3 install bash_kernel "
   ]
  },
  {
   "cell_type": "markdown",
   "id": "ff8f8544-2b75-46e6-abc9-ef921b1bd47b",
   "metadata": {},
   "source": [
    "## Verify installation\n",
    "\n",
    "The bash kernel is now installed in Jupyter.  Let's verify by using Jupyter to list the kernel specs that have been installed: "
   ]
  },
  {
   "cell_type": "code",
   "execution_count": 2,
   "id": "bc99049a-40a5-46e9-bc98-a867b6199e65",
   "metadata": {},
   "outputs": [
    {
     "name": "stdout",
     "output_type": "stream",
     "text": [
      "Available kernels:\n",
      "  python3    /opt/homebrew/Cellar/jupyterlab/3.2.9/libexec/lib/python3.9/site-packages/ipykernel/resources\n",
      "  bash       /Users/dank/Library/Jupyter/kernels/bash\n"
     ]
    }
   ],
   "source": [
    "!jupyter kernelspec list"
   ]
  },
  {
   "cell_type": "markdown",
   "id": "39896220-fe8e-4976-80b4-dbe0014b4e00",
   "metadata": {
    "tags": []
   },
   "source": [
    "### Finished \n",
    "\n",
    "Running `jupyter notebook` or `jupyter lab` will now allow you to switch the kernel used for a notebook by clicking on the kernel in the upper-right corner inside Jupyter.\n",
    "\n",
    "### Next Steps\n",
    "- [Install Kubernetes](../../kubernetes/install_k8s_cluster.ipynb)"
   ]
  }
 ],
 "metadata": {
  "kernelspec": {
   "display_name": "Python 3",
   "language": "python",
   "name": "python3"
  },
  "language_info": {
   "codemirror_mode": {
    "name": "ipython",
    "version": 3
   },
   "file_extension": ".py",
   "mimetype": "text/x-python",
   "name": "python",
   "nbconvert_exporter": "python",
   "pygments_lexer": "ipython3",
   "version": "3.10.6"
  }
 },
 "nbformat": 4,
 "nbformat_minor": 5
}
