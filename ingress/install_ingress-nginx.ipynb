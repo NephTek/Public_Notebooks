{
 "cells": [
  {
   "cell_type": "markdown",
   "id": "c1a8dd89-530d-48d9-99d7-0b3a7ca3091f",
   "metadata": {},
   "source": [
    "# ingress-nginx\n",
    "\n",
    "## Prerequisites\n",
    "- [Learning Jupyter](https://github.com/NephTek/Public_Notebooks/blob/main/getting-started/learning_jupyter.ipynb)\n",
    "- Install Jupyter bash kernel:\n",
    "  - [Windows](https://github.com/NephTek/Public_Notebooks/blob/main/getting-started/windows/install_jupyter_bash_kernel.ipynb)\n",
    "  - [Mac](https://github.com/NephTek/Public_Notebooks/blob/main/getting-started/mac/install_jupyter_bash_kernel.ipynb)\n",
    "  - [Linux](https://github.com/NephTek/Public_Notebooks/blob/main/getting-started/linux/install_jupyter_bash_kernel.ipynb)\n",
    "- [Install Kubernetes](https://github.com/NephTek/Public_Notebooks/blob/main/kubernetes/install_k8s_cluster.ipynb)\n",
    "- [Install DNSmasq](https://github.com/NephTek/Public_Notebooks/blob/main/dnsmasq/install_dnsmasq.ipynb)\n",
    "- [Install cert-manager](https://github.com/NephTek/Public_Notebooks/blob/main/cert-manager/install_cert-manager.ipynb)\n",
    "- [Install Monitoring](https://github.com/NephTek/Public_Notebooks/blob/main/monitoring/install_kube-prometheus-stack.ipynb)\n",
    "- [Install Logging](https://github.com/NephTek/Public_Notebooks/blob/main/logging/install_loki.ipynb)\n",
    "\n",
    "## Installing ingres-nginx Helm Chart"
   ]
  },
  {
   "cell_type": "code",
   "execution_count": 1,
   "id": "b4839503-4b23-43b0-97a9-39c3885d2cf1",
   "metadata": {},
   "outputs": [
    {
     "name": "stdout",
     "output_type": "stream",
     "text": [
      "\"ingress-nginx\" already exists with the same configuration, skipping\n"
     ]
    }
   ],
   "source": [
    "helm repo add ingress-nginx https://kubernetes.github.io/ingress-nginx"
   ]
  },
  {
   "cell_type": "code",
   "execution_count": 2,
   "id": "f045291a-bc97-4fd8-8484-a0e7bdb35a4d",
   "metadata": {},
   "outputs": [
    {
     "name": "stdout",
     "output_type": "stream",
     "text": [
      "Hang tight while we grab the latest from your chart repositories...\n",
      "...Successfully got an update from the \"metallb\" chart repository\n",
      "...Successfully got an update from the \"sealed-secrets\" chart repository\n",
      "...Successfully got an update from the \"oauth2-proxy\" chart repository\n",
      "...Successfully got an update from the \"stackgres-charts\" chart repository\n",
      "...Successfully got an update from the \"ingress-nginx\" chart repository\n",
      "...Successfully got an update from the \"falcosecurity\" chart repository\n",
      "...Successfully got an update from the \"linkerd\" chart repository\n",
      "...Successfully got an update from the \"sentinelone\" chart repository\n",
      "...Successfully got an update from the \"rstudio\" chart repository\n",
      "...Successfully got an update from the \"harbor\" chart repository\n",
      "...Successfully got an update from the \"kyverno\" chart repository\n",
      "...Successfully got an update from the \"loki\" chart repository\n",
      "...Successfully got an update from the \"k8ssandra\" chart repository\n",
      "...Successfully got an update from the \"sentry\" chart repository\n",
      "...Successfully got an update from the \"jetstack\" chart repository\n",
      "...Successfully got an update from the \"newrelic\" chart repository\n",
      "...Successfully got an update from the \"grafana\" chart repository\n",
      "...Successfully got an update from the \"gitlab\" chart repository\n",
      "...Successfully got an update from the \"cilium\" chart repository\n",
      "...Successfully got an update from the \"prometheus-community\" chart repository\n",
      "...Successfully got an update from the \"k8s-at-home\" chart repository\n",
      "...Successfully got an update from the \"bitnami\" chart repository\n",
      "Update Complete. ⎈Happy Helming!⎈\n"
     ]
    }
   ],
   "source": [
    "helm repo update"
   ]
  },
  {
   "cell_type": "code",
   "execution_count": 1,
   "id": "3eba8635-eeec-4084-b528-6b3c9ac648bb",
   "metadata": {},
   "outputs": [
    {
     "name": "stdout",
     "output_type": "stream",
     "text": [
      "Release \"ingress-nginx\" does not exist. Installing it now.\n",
      "NAME: ingress-nginx\n",
      "LAST DEPLOYED: Mon Mar 28 13:38:47 2022\n",
      "NAMESPACE: ingress\n",
      "STATUS: deployed\n",
      "REVISION: 1\n",
      "TEST SUITE: None\n",
      "NOTES:\n",
      "The ingress-nginx controller has been installed.\n",
      "Get the application URL by running these commands:\n",
      "  export HTTP_NODE_PORT=32080\n",
      "  export HTTPS_NODE_PORT=32443\n",
      "  export NODE_IP=$(kubectl --namespace ingress get nodes -o jsonpath=\"{.items[0].status.addresses[1].address}\")\n",
      "\n",
      "  echo \"Visit http://$NODE_IP:$HTTP_NODE_PORT to access your application via HTTP.\"\n",
      "  echo \"Visit https://$NODE_IP:$HTTPS_NODE_PORT to access your application via HTTPS.\"\n",
      "\n",
      "An example Ingress that makes use of the controller:\n",
      "  apiVersion: networking.k8s.io/v1\n",
      "  kind: Ingress\n",
      "  metadata:\n",
      "    name: example\n",
      "    namespace: foo\n",
      "  spec:\n",
      "    ingressClassName: nginx\n",
      "    rules:\n",
      "      - host: www.example.com\n",
      "        http:\n",
      "          paths:\n",
      "            - pathType: Prefix\n",
      "              backend:\n",
      "                service:\n",
      "                  name: exampleService\n",
      "                  port:\n",
      "                    number: 80\n",
      "              path: /\n",
      "    # This section is only required if TLS is to be enabled for the Ingress\n",
      "    tls:\n",
      "      - hosts:\n",
      "        - www.example.com\n",
      "        secretName: example-tls\n",
      "\n",
      "If TLS is enabled for the Ingress, a Secret containing the certificate and key must also be provided:\n",
      "\n",
      "  apiVersion: v1\n",
      "  kind: Secret\n",
      "  metadata:\n",
      "    name: example-tls\n",
      "    namespace: foo\n",
      "  data:\n",
      "    tls.crt: <base64 encoded cert>\n",
      "    tls.key: <base64 encoded key>\n",
      "  type: kubernetes.io/tls\n",
      "\u001b[?2004h"
     ]
    },
    {
     "ename": "",
     "evalue": "1",
     "output_type": "error",
     "traceback": []
    }
   ],
   "source": [
    "helm upgrade --install -n ingress --create-namespace ingress-nginx ingress-nginx/ingress-nginx -f values.yaml -f values.rancher-desktop.yaml --wait"
   ]
  },
  {
   "cell_type": "markdown",
   "id": "93f39184-d8f8-404e-8bb3-b78dfd6c7f7f",
   "metadata": {},
   "source": [
    "### Finished\n",
    "\n",
    "### Next Steps\n",
    "- [Install Postgres](https://github.com/NephTek/Public_Notebooks/blob/main/postgres/install_postgres.ipynb)"
   ]
  }
 ],
 "metadata": {
  "kernelspec": {
   "display_name": "Bash",
   "language": "bash",
   "name": "bash"
  },
  "language_info": {
   "codemirror_mode": "shell",
   "file_extension": ".sh",
   "mimetype": "text/x-sh",
   "name": "bash"
  }
 },
 "nbformat": 4,
 "nbformat_minor": 5
}
