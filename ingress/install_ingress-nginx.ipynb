{
 "cells": [
  {
   "cell_type": "markdown",
   "id": "c1a8dd89-530d-48d9-99d7-0b3a7ca3091f",
   "metadata": {
    "tags": []
   },
   "source": [
    "# ingress-nginx\n",
    "\n",
    "## Prerequisites\n",
    "- [Learning Jupyter](../getting-started/learning_jupyter.ipynb)\n",
    "- Install Jupyter bash kernel:\n",
    "  - Windows... coming soon!\n",
    "  - [Mac](../getting-started/mac/install_jupyter_bash_kernel.ipynb)\n",
    "  - [Linux](../getting-started/linux/install_jupyter_bash_kernel.ipynb)\n",
    "- [Install Kubernetes](../kubernetes/install_k8s_cluster.ipynb)\n",
    "- Configure DNS\n",
    "  - Mac: [Install DNSmasq](../dnsmasq/mac/install_dnsmasq.ipynb)\n",
    "  - Linux: [Install DNSmasq](../../dnsmasq/linux/install_dnsmasq.ipynb)\n",
    "  - Windows: Install Acrylic... coming soon!\n",
    "- [Install Monitoring](../monitoring/install_kube-prometheus-stack.ipynb)\n",
    "- [Install Logging](../logging/install_loki.ipynb)\n",
    "- [Install cert-manager](../cert-manager/install_cert-manager.ipynb)\n"
   ]
  },
  {
   "cell_type": "code",
   "execution_count": null,
   "id": "09df7073-f839-4bb5-a60e-7720e24ff384",
   "metadata": {},
   "outputs": [],
   "source": [
    "## Installing ingres-nginx Helm Chart\n",
    "\n",
    "We'll start by adding the helm repository for ingress-nginx:"
   ]
  },
  {
   "cell_type": "code",
   "execution_count": 1,
   "id": "b4839503-4b23-43b0-97a9-39c3885d2cf1",
   "metadata": {},
   "outputs": [
    {
     "name": "stdout",
     "output_type": "stream",
     "text": [
      "\"ingress-nginx\" has been added to your repositories\n"
     ]
    }
   ],
   "source": [
    "helm repo add ingress-nginx https://kubernetes.github.io/ingress-nginx"
   ]
  },
  {
   "cell_type": "markdown",
   "id": "8034d8ec-4986-48b3-a2b4-80ca131a7be2",
   "metadata": {},
   "source": [
    "And then update available charts from the remote repositories:"
   ]
  },
  {
   "cell_type": "code",
   "execution_count": 2,
   "id": "f045291a-bc97-4fd8-8484-a0e7bdb35a4d",
   "metadata": {},
   "outputs": [
    {
     "name": "stdout",
     "output_type": "stream",
     "text": [
      "Hang tight while we grab the latest from your chart repositories...\n",
      "...Successfully got an update from the \"nfs-subdir-external-provisioner\" chart repository\n",
      "...Successfully got an update from the \"gatekeeper\" chart repository\n",
      "...Successfully got an update from the \"isaaguilar\" chart repository\n",
      "index.go:346: skipping loading invalid entry for chart \"posthog\" \"1.0.3.1\" from https://posthog.github.io/charts/: validation: chart.metadata.version \"1.0.3.1\" is invalid\n",
      "...Successfully got an update from the \"posthog\" chart repository\n",
      "...Successfully got an update from the \"prometheus-msteams\" chart repository\n",
      "...Successfully got an update from the \"helm-openldap\" chart repository\n",
      "...Successfully got an update from the \"oauth2-proxy\" chart repository\n",
      "...Successfully got an update from the \"sentry\" chart repository\n",
      "...Successfully got an update from the \"kyverno\" chart repository\n",
      "...Successfully got an update from the \"ingress-nginx\" chart repository\n",
      "...Successfully got an update from the \"minio\" chart repository\n",
      "...Successfully got an update from the \"falcosecurity\" chart repository\n",
      "...Successfully got an update from the \"cilium\" chart repository\n",
      "...Successfully got an update from the \"jaegertracing\" chart repository\n",
      "...Successfully got an update from the \"jetstack\" chart repository\n",
      "...Successfully got an update from the \"argo\" chart repository\n",
      "...Successfully got an update from the \"kube-ops\" chart repository\n",
      "...Successfully got an update from the \"grafana\" chart repository\n",
      "...Successfully got an update from the \"gitlab\" chart repository\n",
      "...Successfully got an update from the \"prometheus-community\" chart repository\n",
      "...Successfully got an update from the \"appscode\" chart repository\n",
      "...Successfully got an update from the \"deliveryhero\" chart repository\n",
      "...Successfully got an update from the \"k8s-at-home\" chart repository\n",
      "...Successfully got an update from the \"bitnami\" chart repository\n",
      "...Successfully got an update from the \"stable\" chart repository\n",
      "Update Complete. ⎈Happy Helming!⎈\n"
     ]
    }
   ],
   "source": [
    "helm repo update"
   ]
  },
  {
   "cell_type": "markdown",
   "id": "721373b6-b50d-4557-b4fe-cfb0fc48deec",
   "metadata": {},
   "source": [
    "<div class=\"alert alert-block alert-info\">\n",
    "    <b>Note: </b> \n",
    "The next step depends upon whether you have already installed the observability stack, as it optionally makes use of the Prometheus Operator.  If you have not installed the observability stack, use the following command.  If you have, skip this step and proceed to the next step.\n",
    "</div>\n",
    "\n",
    "Install the ingress controller **without** observability:"
   ]
  },
  {
   "cell_type": "code",
   "execution_count": null,
   "id": "3eba8635-eeec-4084-b528-6b3c9ac648bb",
   "metadata": {},
   "outputs": [
    {
     "name": "stdout",
     "output_type": "stream",
     "text": [
      "Release \"ingress-nginx\" does not exist. Installing it now.\n",
      "NAME: ingress-nginx\n",
      "LAST DEPLOYED: Thu Sep 29 08:51:30 2022\n",
      "NAMESPACE: ingress\n",
      "STATUS: deployed\n",
      "REVISION: 1\n",
      "TEST SUITE: None\n",
      "NOTES:\n",
      "The ingress-nginx controller has been installed.\n",
      "It may take a few minutes for the LoadBalancer IP to be available.\n",
      "You can watch the status by running 'kubectl --namespace ingress get services -o wide -w ingress-nginx-controller'\n",
      "\n",
      "An example Ingress that makes use of the controller:\n",
      "  apiVersion: networking.k8s.io/v1\n",
      "  kind: Ingress\n",
      "  metadata:\n",
      "    name: example\n",
      "    namespace: foo\n",
      "  spec:\n",
      "    ingressClassName: nginx\n",
      "    rules:\n",
      "      - host: www.example.com\n",
      "        http:\n",
      "          paths:\n",
      "            - pathType: Prefix\n",
      "              backend:\n",
      "                service:\n",
      "                  name: exampleService\n",
      "                  port:\n",
      "                    number: 80\n",
      "              path: /\n",
      "    # This section is only required if TLS is to be enabled for the Ingress\n",
      "    tls:\n",
      "      - hosts:\n",
      "        - www.example.com\n",
      "        secretName: example-tls\n",
      "\n",
      "If TLS is enabled for the Ingress, a Secret containing the certificate and key must also be provided:\n",
      "\n",
      "  apiVersion: v1\n",
      "  kind: Secret\n",
      "  metadata:\n",
      "    name: example-tls\n",
      "    namespace: foo\n",
      "  data:\n",
      "    tls.crt: <base64 encoded cert>\n",
      "    tls.key: <base64 encoded key>\n",
      "  type: kubernetes.io/tls\n"
     ]
    }
   ],
   "source": [
    "helm upgrade --install -n ingress --create-namespace ingress-nginx ingress-nginx/ingress-nginx -f values.no-observability.yaml -f values.rancher-desktop.yaml --wait"
   ]
  },
  {
   "cell_type": "markdown",
   "id": "1bb8ffec-7629-4b7d-ac8b-31239163f0ba",
   "metadata": {},
   "source": [
    "<div class=\"alert alert-block alert-info\">\n",
    "    <b>Note: </b> \n",
    "The next step requires the Prometheus Operator, installed as part of the observability stack.  If you have not already installed the observability stack, the command in the prior step will work instead.  \n",
    "</div>\n",
    "\n",
    "Install the ingress controller **with** observability:"
   ]
  },
  {
   "cell_type": "code",
   "execution_count": 3,
   "id": "dd7ba939-f668-4511-a156-9260fe8daad9",
   "metadata": {},
   "outputs": [
    {
     "name": "stdout",
     "output_type": "stream",
     "text": [
      "Release \"ingress-nginx\" does not exist. Installing it now.\n",
      "NAME: ingress-nginx\n",
      "LAST DEPLOYED: Thu Sep 29 08:51:30 2022\n",
      "NAMESPACE: ingress\n",
      "STATUS: deployed\n",
      "REVISION: 1\n",
      "TEST SUITE: None\n",
      "NOTES:\n",
      "The ingress-nginx controller has been installed.\n",
      "It may take a few minutes for the LoadBalancer IP to be available.\n",
      "You can watch the status by running 'kubectl --namespace ingress get services -o wide -w ingress-nginx-controller'\n",
      "\n",
      "An example Ingress that makes use of the controller:\n",
      "  apiVersion: networking.k8s.io/v1\n",
      "  kind: Ingress\n",
      "  metadata:\n",
      "    name: example\n",
      "    namespace: foo\n",
      "  spec:\n",
      "    ingressClassName: nginx\n",
      "    rules:\n",
      "      - host: www.example.com\n",
      "        http:\n",
      "          paths:\n",
      "            - pathType: Prefix\n",
      "              backend:\n",
      "                service:\n",
      "                  name: exampleService\n",
      "                  port:\n",
      "                    number: 80\n",
      "              path: /\n",
      "    # This section is only required if TLS is to be enabled for the Ingress\n",
      "    tls:\n",
      "      - hosts:\n",
      "        - www.example.com\n",
      "        secretName: example-tls\n",
      "\n",
      "If TLS is enabled for the Ingress, a Secret containing the certificate and key must also be provided:\n",
      "\n",
      "  apiVersion: v1\n",
      "  kind: Secret\n",
      "  metadata:\n",
      "    name: example-tls\n",
      "    namespace: foo\n",
      "  data:\n",
      "    tls.crt: <base64 encoded cert>\n",
      "    tls.key: <base64 encoded key>\n",
      "  type: kubernetes.io/tls\n"
     ]
    }
   ],
   "source": [
    "helm upgrade --install -n ingress --create-namespace ingress-nginx ingress-nginx/ingress-nginx -f values.yaml -f values.rancher-desktop.yaml --wait"
   ]
  },
  {
   "cell_type": "markdown",
   "id": "93f39184-d8f8-404e-8bb3-b78dfd6c7f7f",
   "metadata": {},
   "source": [
    "### Finished\n",
    "\n",
    "### Next Steps\n",
    "- [Install Postgres](../postgres/install_postgres.ipynb)"
   ]
  }
 ],
 "metadata": {
  "kernelspec": {
   "display_name": "Bash",
   "language": "bash",
   "name": "bash"
  },
  "language_info": {
   "codemirror_mode": "shell",
   "file_extension": ".sh",
   "mimetype": "text/x-sh",
   "name": "bash"
  }
 },
 "nbformat": 4,
 "nbformat_minor": 5
}
