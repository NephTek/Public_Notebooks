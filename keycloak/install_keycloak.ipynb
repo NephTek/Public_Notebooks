{
 "cells": [
  {
   "cell_type": "markdown",
   "id": "df0acc2e-2342-468d-8b9e-2e66292f76bb",
   "metadata": {},
   "source": [
    "# Installing Keycloak\n",
    "\n",
    "## Prerequisites\n",
    "- [Learning Jupyter](https://github.com/NephTek/Public_Notebooks/blob/main/getting-started/learning_jupyter.ipynb)\n",
    "- Install Jupyter bash kernel:\n",
    "  - [Windows](https://github.com/NephTek/Public_Notebooks/blob/main/getting-started/windows/install_jupyter_bash_kernel.ipynb)\n",
    "  - [Mac](https://github.com/NephTek/Public_Notebooks/blob/main/getting-started/mac/install_jupyter_bash_kernel.ipynb)\n",
    "  - [Linux](https://github.com/NephTek/Public_Notebooks/blob/main/getting-started/linux/install_jupyter_bash_kernel.ipynb)\n",
    "- [Install Kubernetes](https://github.com/NephTek/Public_Notebooks/blob/main/kubernetes/install_k8s_cluster.ipynb)\n",
    "- [Install DNSmasq](https://github.com/NephTek/Public_Notebooks/blob/main/dnsmasq/install_dnsmasq.ipynb)\n",
    "- [Install cert-manager](https://github.com/NephTek/Public_Notebooks/blob/main/cert-manager/install_cert-manager.ipynb)\n",
    "- [Install Monitoring](https://github.com/NephTek/Public_Notebooks/blob/main/monitoring/install_kube-prometheus-stack.ipynb)\n",
    "- [Install Logging](https://github.com/NephTek/Public_Notebooks/blob/main/logging/install_loki.ipynb)\n",
    "- [Install Ingress](https://github.com/NephTek/Public_Notebooks/blob/main/ingress/install_ingress-nginx.ipynb)\n",
    "- [Install Postgres](https://github.com/NephTek/Public_Notebooks/blob/main/postgres/install_postgres.ipynb)\n",
    "- [Install OpenLDAP](https://github.com/NephTek/Public_Notebooks/blob/main/openldap/install_openldap.ipynb)"
   ]
  },
  {
   "cell_type": "markdown",
   "id": "cb9a3b25-c285-4706-b3bb-47fcd42cc8aa",
   "metadata": {},
   "source": [
    "## Install Keycloak Operator\n",
    "The Keycloak operator creates several new CRDs in Kubernetes to simplify the process of managing Keycloak and configurations.  \n",
    "\n",
    "### Clone the keycloak-operator project\n",
    "Start with cloning the keycloak-operator project locally:"
   ]
  },
  {
   "cell_type": "code",
   "execution_count": 1,
   "id": "09f885e1",
   "metadata": {},
   "outputs": [
    {
     "name": "stdout",
     "output_type": "stream",
     "text": [
      "Cloning into 'keycloak-operator'...\n",
      "remote: Enumerating objects: 12631, done.\u001b[K\n",
      "remote: Counting objects: 100% (2386/2386), done.\u001b[K\n",
      "remote: Compressing objects: 100% (413/413), done.\u001b[K\n",
      "remote: Total 12631 (delta 2120), reused 1995 (delta 1967), pack-reused 10245\u001b[K\n",
      "Receiving objects: 100% (12631/12631), 11.41 MiB | 1.02 MiB/s, done.\n",
      "Resolving deltas: 100% (7226/7226), done.\n",
      "\u001b[?2004h"
     ]
    },
    {
     "ename": "",
     "evalue": "1",
     "output_type": "error",
     "traceback": []
    }
   ],
   "source": [
    "git clone https://github.com/keycloak/keycloak-operator.git"
   ]
  },
  {
   "cell_type": "markdown",
   "id": "506445b0-a8db-4fd9-9ff2-a4c0cb93da52",
   "metadata": {},
   "source": [
    "### Apply the operator manifests\n",
    "We have built a kustomization overlay that installs the Keycloak operator, pinning the operator version number to v17.0.0 and changing the Keycloak image to an ARM64-architecture docker image of v17.0.0 of Keycloak.  Install the operator using `kubectl` and its built-in Kustomize functionality: "
   ]
  },
  {
   "cell_type": "code",
   "execution_count": 2,
   "id": "991f9c72",
   "metadata": {},
   "outputs": [
    {
     "name": "stdout",
     "output_type": "stream",
     "text": [
      "namespace/keycloak created\n",
      "customresourcedefinition.apiextensions.k8s.io/keycloakbackups.keycloak.org created\n",
      "customresourcedefinition.apiextensions.k8s.io/keycloakclients.keycloak.org created\n",
      "customresourcedefinition.apiextensions.k8s.io/keycloakrealms.keycloak.org created\n",
      "customresourcedefinition.apiextensions.k8s.io/keycloaks.keycloak.org created\n",
      "customresourcedefinition.apiextensions.k8s.io/keycloakusers.keycloak.org created\n",
      "serviceaccount/keycloak-operator created\n",
      "role.rbac.authorization.k8s.io/keycloak-operator created\n",
      "rolebinding.rbac.authorization.k8s.io/keycloak-operator created\n",
      "deployment.apps/keycloak-operator created\n",
      "\u001b[?2004h"
     ]
    },
    {
     "ename": "",
     "evalue": "1",
     "output_type": "error",
     "traceback": []
    }
   ],
   "source": [
    "kubectl apply -k kustomization/overlays/rancher-desktop/arm64"
   ]
  },
  {
   "cell_type": "markdown",
   "id": "b56d0cd6-577c-4065-8863-096282e6549c",
   "metadata": {},
   "source": [
    "### Install the Postgres database\n",
    "Using the Zalando Postgres operator installed in a previous step, we install a Postgres database instance for Keycloak:"
   ]
  },
  {
   "cell_type": "code",
   "execution_count": 3,
   "id": "4c0a17f2",
   "metadata": {},
   "outputs": [
    {
     "name": "stdout",
     "output_type": "stream",
     "text": [
      "postgresql.acid.zalan.do/acid-keycloak-cluster created\n",
      "\u001b[?2004h"
     ]
    },
    {
     "ename": "",
     "evalue": "1",
     "output_type": "error",
     "traceback": []
    }
   ],
   "source": [
    "kubectl apply -f keycloak-postgres.yaml -n keycloak"
   ]
  },
  {
   "cell_type": "markdown",
   "id": "395f7ae9-5171-49f1-a000-1565fa293617",
   "metadata": {},
   "source": [
    "Next, we extract the value of the Postgres password into a secret that our Keycloak instance will use: "
   ]
  },
  {
   "cell_type": "code",
   "execution_count": 4,
   "id": "df04d651",
   "metadata": {},
   "outputs": [
    {
     "name": "stdout",
     "output_type": "stream",
     "text": [
      "\u001b[?2004h"
     ]
    },
    {
     "ename": "",
     "evalue": "1",
     "output_type": "error",
     "traceback": []
    }
   ],
   "source": [
    "PGPASSWORD=$(kubectl get secret keycloak.acid-keycloak-cluster.credentials.postgresql.acid.zalan.do -n keycloak -o 'jsonpath={.data.password}' | base64 -d)"
   ]
  },
  {
   "cell_type": "code",
   "execution_count": 5,
   "id": "81b6e3e0",
   "metadata": {},
   "outputs": [
    {
     "name": "stdout",
     "output_type": "stream",
     "text": [
      "secret/keycloak-db-secret created[?2004l\u001b[?2004l\n",
      "\u001b[?2004h"
     ]
    },
    {
     "ename": "",
     "evalue": "1",
     "output_type": "error",
     "traceback": []
    }
   ],
   "source": [
    "kubectl create secret generic keycloak-db-secret -n keycloak \\\n",
    "        --from-literal=POSTGRES_DATABASE=keycloak \\\n",
    "        --from-literal=POSTGRES_EXTERNAL_ADDRESS=acid-keycloak-cluster.keycloak.svc.cluster.local \\\n",
    "        --from-literal=POSTGRES_EXTERNAL_PORT=5432 \\\n",
    "        --from-literal=POSTGRES_USERNAME=keycloak \\\n",
    "        --from-literal=POSTGRES_PASSWORD=$PGPASSWORD"
   ]
  },
  {
   "cell_type": "code",
   "execution_count": 6,
   "id": "fd1f1190",
   "metadata": {},
   "outputs": [
    {
     "name": "stdout",
     "output_type": "stream",
     "text": [
      "secret/keycloak-db-secret labeled\n",
      "\u001b[?2004h"
     ]
    },
    {
     "ename": "",
     "evalue": "1",
     "output_type": "error",
     "traceback": []
    }
   ],
   "source": [
    "kubectl label secret keycloak-db-secret app=keycloak -n keycloak"
   ]
  },
  {
   "cell_type": "markdown",
   "id": "2450ce17-3f53-4fc4-b779-3fea774676e8",
   "metadata": {},
   "source": [
    "With this secret, we now can create our Keycloak instance using the `keycloak` CRD:"
   ]
  },
  {
   "cell_type": "code",
   "execution_count": 7,
   "id": "70176346-5a8a-47cb-826f-2778d9a9a9cc",
   "metadata": {},
   "outputs": [
    {
     "name": "stdout",
     "output_type": "stream",
     "text": [
      "keycloak.keycloak.org/keycloak-sso created\n",
      "\u001b[?2004h"
     ]
    },
    {
     "ename": "",
     "evalue": "1",
     "output_type": "error",
     "traceback": []
    }
   ],
   "source": [
    "kubectl apply -f keycloak-sso.yaml -n keycloak"
   ]
  },
  {
   "cell_type": "markdown",
   "id": "231c6ece-04bc-4080-af2a-c1f06d2f16f0",
   "metadata": {},
   "source": [
    "### Verify installation"
   ]
  },
  {
   "cell_type": "code",
   "execution_count": 16,
   "id": "5c9bf324-90d5-4a51-bded-c523d88eb7a7",
   "metadata": {},
   "outputs": [
    {
     "name": "stdout",
     "output_type": "stream",
     "text": [
      "NAME                                 READY   STATUS    RESTARTS        AGE\n",
      "keycloak-operator-846f9d566f-xzhlm   1/1     Running   4 (4h17m ago)   21d\n",
      "acid-keycloak-cluster-0              1/1     Running   0               16m\n",
      "keycloak-0                           0/1     Running   0               7s\n"
     ]
    }
   ],
   "source": [
    "kubectl get pods -n keycloak"
   ]
  },
  {
   "cell_type": "markdown",
   "id": "b6b2bbff-b359-4a9a-a982-97e3b0e6ada4",
   "metadata": {},
   "source": [
    "### Create Ingress \n",
    "The Ingress object exposes our Keycloak instance at the URL: https://keycloak.k8s.nephtek.com\n",
    "This Ingress object also creates and manages a TLS certificate using cert-manager, installed in a prior step."
   ]
  },
  {
   "cell_type": "code",
   "execution_count": 8,
   "id": "0c604509-24fe-4bca-89c8-503c52af5842",
   "metadata": {},
   "outputs": [
    {
     "name": "stdout",
     "output_type": "stream",
     "text": [
      "ingress.networking.k8s.io/keycloak created\n",
      "\u001b[?2004h"
     ]
    },
    {
     "ename": "",
     "evalue": "1",
     "output_type": "error",
     "traceback": []
    }
   ],
   "source": [
    "kubectl apply -f keycloak-ingress.yaml -n keycloak"
   ]
  },
  {
   "cell_type": "markdown",
   "id": "2042c12c-96a3-4e37-8278-31652272a5a0",
   "metadata": {},
   "source": [
    "### Create Keycloak Realm for LDAP"
   ]
  },
  {
   "cell_type": "code",
   "execution_count": 9,
   "id": "b7052fb9-8f4a-4da2-bb31-13751711caed",
   "metadata": {},
   "outputs": [
    {
     "name": "stdout",
     "output_type": "stream",
     "text": [
      "keycloakrealm.keycloak.org/ldap-realm created\n",
      "\u001b[?2004h"
     ]
    },
    {
     "ename": "",
     "evalue": "1",
     "output_type": "error",
     "traceback": []
    }
   ],
   "source": [
    "kubectl apply -f keycloak-realm.yaml -n keycloak"
   ]
  },
  {
   "cell_type": "markdown",
   "id": "bbff1cc7-c14e-40e0-9c6e-ac06aaaa199f",
   "metadata": {},
   "source": [
    "### Creae Keycloak Clients"
   ]
  },
  {
   "cell_type": "code",
   "execution_count": 10,
   "id": "a4b84b6b-321e-4a2b-8458-90e45ea034cd",
   "metadata": {},
   "outputs": [
    {
     "name": "stdout",
     "output_type": "stream",
     "text": [
      "keycloakclient.keycloak.org/grafana-k8s-nephtek-com created\n",
      "\u001b[?2004h"
     ]
    },
    {
     "ename": "",
     "evalue": "1",
     "output_type": "error",
     "traceback": []
    }
   ],
   "source": [
    "kubectl apply -f keycloak-client.yaml -n keycloak"
   ]
  },
  {
   "cell_type": "markdown",
   "id": "0c9b02f4-71b5-4800-9924-7555857180c3",
   "metadata": {},
   "source": [
    "### Finished\n",
    "\n",
    "### Next Steps\n"
   ]
  }
 ],
 "metadata": {
  "kernelspec": {
   "display_name": "Bash",
   "language": "bash",
   "name": "bash"
  },
  "language_info": {
   "codemirror_mode": "shell",
   "file_extension": ".sh",
   "mimetype": "text/x-sh",
   "name": "bash"
  },
  "toc-autonumbering": true,
  "toc-showcode": true,
  "toc-showmarkdowntxt": true,
  "toc-showtags": true
 },
 "nbformat": 4,
 "nbformat_minor": 5
}
