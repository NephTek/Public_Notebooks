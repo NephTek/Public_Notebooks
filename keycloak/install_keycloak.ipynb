{
 "cells": [
  {
   "cell_type": "markdown",
   "id": "df0acc2e-2342-468d-8b9e-2e66292f76bb",
   "metadata": {},
   "source": [
    "# Installing Keycloak\n",
    "\n",
    "## Prerequisites\n",
    "- [Learning Jupyter](https://github.com/NephTek/Public_Notebooks/blob/main/getting-started/learning_jupyter.ipynb)\n",
    "- Install Jupyter bash kernel:\n",
    "  - [Windows](https://github.com/NephTek/Public_Notebooks/blob/main/getting-started/windows/install_jupyter_bash_kernel.ipynb)\n",
    "  - [Mac](https://github.com/NephTek/Public_Notebooks/blob/main/getting-started/mac/install_jupyter_bash_kernel.ipynb)\n",
    "  - [Linux](https://github.com/NephTek/Public_Notebooks/blob/main/getting-started/linux/install_jupyter_bash_kernel.ipynb)\n",
    "- [Install Kubernetes](https://github.com/NephTek/Public_Notebooks/blob/main/kubernetes/install_k8s_cluster.ipynb)\n",
    "- [Install cert-manager](https://github.com/NephTek/Public_Notebooks/blob/main/cert-manager/install_cert-manager.ipynb)\n",
    "- [Install Monitoring](https://github.com/NephTek/Public_Notebooks/blob/main/monitoring/install_kube-prometheus-stack.ipynb)\n",
    "- [Install Logging](https://github.com/NephTek/Public_Notebooks/blob/main/logging/install_loki.ipynb)\n",
    "- [Install Ingress](https://github.com/NephTek/Public_Notebooks/blob/main/ingress/install_ingress-nginx.ipynb)\n",
    "- [Install Postgres](https://github.com/NephTek/Public_Notebooks/blob/main/postgres/install_postgres.ipynb)\n",
    "\n",
    "## Start Your K8s Cluster\n",
    "Start by ensuring your cluster is available and running."
   ]
  },
  {
   "cell_type": "code",
   "execution_count": 1,
   "id": "4acd3f29",
   "metadata": {},
   "outputs": [
    {
     "name": "stdout",
     "output_type": "stream",
     "text": [
      "NAME                   STATUS   ROLES                          AGE   VERSION\n",
      "lima-rancher-desktop   Ready    builder,control-plane,master   19d   v1.23.3+k3s1\n"
     ]
    }
   ],
   "source": [
    "kubectl get nodes"
   ]
  },
  {
   "cell_type": "code",
   "execution_count": 2,
   "id": "dbeb3755",
   "metadata": {},
   "outputs": [
    {
     "name": "stdout",
     "output_type": "stream",
     "text": [
      "Installing Keycloak.ipynb\tbashkernelinstall.ipynb\n",
      "LICENSE\t\t\t\tk3d_getting_started.ipynb\n",
      "README.md\t\t\tkeycloak-operator\n"
     ]
    }
   ],
   "source": [
    "ls"
   ]
  },
  {
   "cell_type": "markdown",
   "id": "cb9a3b25-c285-4706-b3bb-47fcd42cc8aa",
   "metadata": {},
   "source": [
    "## Install Postgres\n",
    "Keycloak is an Identity Provider.  Keycloak requires a database to store its data to manage identity.  While the Keycloak operator supports an internally managed Postgres instance, the instance is intended only for development purposes only.  Instead, we're going to use an external instance of Postgres created using the Zalando Postgres Operator."
   ]
  },
  {
   "cell_type": "code",
   "execution_count": 1,
   "id": "09f885e1",
   "metadata": {},
   "outputs": [
    {
     "name": "stdout",
     "output_type": "stream",
     "text": [
      "Cloning into 'keycloak-operator'...\n",
      "remote: Enumerating objects: 12617, done.\u001b[K\n",
      "remote: Counting objects: 100% (2372/2372), done.\u001b[K\n",
      "remote: Compressing objects: 100% (407/407), done.\u001b[K\n",
      "remote: Total 12617 (delta 2112), reused 1982 (delta 1961), pack-reused 10245\u001b[K\n",
      "Receiving objects: 100% (12617/12617), 11.41 MiB | 1.94 MiB/s, done.\n",
      "Resolving deltas: 100% (7218/7218), done.\n",
      "\u001b[?2004h"
     ]
    },
    {
     "ename": "",
     "evalue": "1",
     "output_type": "error",
     "traceback": []
    }
   ],
   "source": [
    "git clone https://github.com/keycloak/keycloak-operator.git"
   ]
  },
  {
   "cell_type": "code",
   "execution_count": 1,
   "id": "c8e2a441",
   "metadata": {},
   "outputs": [],
   "source": [
    "cd keycloak-operator"
   ]
  },
  {
   "cell_type": "code",
   "execution_count": 2,
   "id": "6938291e",
   "metadata": {},
   "outputs": [
    {
     "name": "stdout",
     "output_type": "stream",
     "text": [
      "customresourcedefinition.apiextensions.k8s.io/keycloakbackups.keycloak.org created\n",
      "customresourcedefinition.apiextensions.k8s.io/keycloakbackups.keycloak.org unchanged\n",
      "customresourcedefinition.apiextensions.k8s.io/keycloakclients.keycloak.org created\n",
      "customresourcedefinition.apiextensions.k8s.io/keycloakclients.keycloak.org unchanged\n",
      "customresourcedefinition.apiextensions.k8s.io/keycloakrealms.keycloak.org created\n",
      "customresourcedefinition.apiextensions.k8s.io/keycloakrealms.keycloak.org unchanged\n",
      "customresourcedefinition.apiextensions.k8s.io/keycloaks.keycloak.org created\n",
      "customresourcedefinition.apiextensions.k8s.io/keycloaks.keycloak.org unchanged\n",
      "customresourcedefinition.apiextensions.k8s.io/keycloakusers.keycloak.org created\n",
      "customresourcedefinition.apiextensions.k8s.io/keycloakusers.keycloak.org unchanged\n",
      "namespace/keycloak created\n",
      "role.rbac.authorization.k8s.io/keycloak-operator created\n",
      "rolebinding.rbac.authorization.k8s.io/keycloak-operator created\n",
      "serviceaccount/keycloak-operator created\n"
     ]
    }
   ],
   "source": [
    "make cluster/prepare"
   ]
  },
  {
   "cell_type": "code",
   "execution_count": 3,
   "id": "991f9c72",
   "metadata": {},
   "outputs": [
    {
     "name": "stdout",
     "output_type": "stream",
     "text": [
      "deployment.apps/keycloak-operator created\n"
     ]
    }
   ],
   "source": [
    "kubectl apply -f deploy/operator.yaml -n keycloak"
   ]
  },
  {
   "cell_type": "code",
   "execution_count": 4,
   "id": "c6579e53",
   "metadata": {},
   "outputs": [],
   "source": [
    "cd .."
   ]
  },
  {
   "cell_type": "code",
   "execution_count": 5,
   "id": "4c0a17f2",
   "metadata": {},
   "outputs": [
    {
     "name": "stdout",
     "output_type": "stream",
     "text": [
      "postgresql.acid.zalan.do/acid-keycloak-cluster created\n"
     ]
    }
   ],
   "source": [
    "kubectl apply -f keycloak-postgres.yaml"
   ]
  },
  {
   "cell_type": "code",
   "execution_count": 2,
   "id": "df04d651",
   "metadata": {},
   "outputs": [],
   "source": [
    "PGPASSWORD=$(kubectl get secret keycloak.acid-keycloak-cluster.credentials.postgresql.acid.zalan.do -n keycloak -o 'jsonpath={.data.password}' | base64 -d)"
   ]
  },
  {
   "cell_type": "code",
   "execution_count": 3,
   "id": "81b6e3e0",
   "metadata": {},
   "outputs": [
    {
     "name": "stdout",
     "output_type": "stream",
     "text": [
      "secret/keycloak-db-secret created\n"
     ]
    }
   ],
   "source": [
    "kubectl create secret generic keycloak-db-secret -n keycloak \\\n",
    "        --from-literal=POSTGRES_DATABASE=keycloak \\\n",
    "        --from-literal=POSTGRES_EXTERNAL_ADDRESS=acid-keycloak-cluster.keycloak.svc.cluster.local \\\n",
    "        --from-literal=POSTGRES_EXTERNAL_PORT=5432 \\\n",
    "        --from-literal=POSTGRES_USERNAME=keycloak \\\n",
    "        --from-literal=POSTGRES_PASSWORD=$PGPASSWORD"
   ]
  },
  {
   "cell_type": "code",
   "execution_count": 4,
   "id": "fd1f1190",
   "metadata": {},
   "outputs": [
    {
     "name": "stdout",
     "output_type": "stream",
     "text": [
      "secret/keycloak-db-secret labeled\n"
     ]
    }
   ],
   "source": [
    "kubectl label secret keycloak-db-secret app=keycloak"
   ]
  },
  {
   "cell_type": "code",
   "execution_count": 15,
   "id": "70176346-5a8a-47cb-826f-2778d9a9a9cc",
   "metadata": {},
   "outputs": [
    {
     "name": "stdout",
     "output_type": "stream",
     "text": [
      "keycloak.keycloak.org/keycloak-sso created\n"
     ]
    }
   ],
   "source": [
    "kubectl apply -f keycloak-sso.yaml"
   ]
  },
  {
   "cell_type": "code",
   "execution_count": 16,
   "id": "5c9bf324-90d5-4a51-bded-c523d88eb7a7",
   "metadata": {},
   "outputs": [
    {
     "name": "stdout",
     "output_type": "stream",
     "text": [
      "NAME                                 READY   STATUS    RESTARTS        AGE\n",
      "keycloak-operator-846f9d566f-xzhlm   1/1     Running   4 (4h17m ago)   21d\n",
      "acid-keycloak-cluster-0              1/1     Running   0               16m\n",
      "keycloak-0                           0/1     Running   0               7s\n"
     ]
    }
   ],
   "source": [
    "kubectl get pods -n keycloak"
   ]
  },
  {
   "cell_type": "code",
   "execution_count": 5,
   "id": "0c604509-24fe-4bca-89c8-503c52af5842",
   "metadata": {},
   "outputs": [
    {
     "name": "stdout",
     "output_type": "stream",
     "text": [
      "ingressroutetcp.traefik.containo.us/keycloak unchanged\n"
     ]
    }
   ],
   "source": [
    "kubectl apply -f keycloak-ingressroutetcp.yaml"
   ]
  },
  {
   "cell_type": "markdown",
   "id": "0c9b02f4-71b5-4800-9924-7555857180c3",
   "metadata": {},
   "source": [
    "### Finished\n",
    "\n",
    "### Next Steps"
   ]
  }
 ],
 "metadata": {
  "kernelspec": {
   "display_name": "Bash",
   "language": "bash",
   "name": "bash"
  },
  "language_info": {
   "codemirror_mode": "shell",
   "file_extension": ".sh",
   "mimetype": "text/x-sh",
   "name": "bash"
  },
  "toc-autonumbering": true,
  "toc-showcode": true,
  "toc-showmarkdowntxt": true,
  "toc-showtags": true
 },
 "nbformat": 4,
 "nbformat_minor": 5
}
