{
 "cells": [
  {
   "cell_type": "markdown",
   "id": "fa4e4cf8-ed63-4565-a5ce-67d4f3aae393",
   "metadata": {},
   "source": [
    "# Installing kube-oidc-proxy\n",
    "\n",
    "Kube-oidc-proxy provides an OIDC authentication proxy to the Kubernetes API server.  \n",
    "Used in conjunction with the kubelogin plugin for kubectl, this provides OIDC authentication\n",
    "to kubectl to interact with Kubernetes clustes.\n",
    "\n",
    "## Prerequisites\n",
    "- [Learning Jupyter](../getting-started/learning_jupyter.ipynb)\n",
    "- Install Jupyter bash kernel:\n",
    "  - Windows... coming soon!\n",
    "  - [Mac](../getting-started/mac/install_jupyter_bash_kernel.ipynb)\n",
    "  - [Linux](../getting-started/linux/install_jupyter_bash_kernel.ipynb)\n",
    "- [Install Kubernetes](../kubernetes/install_k8s_cluster.ipynb)\n",
    "- Configure DNS\n",
    "  - Mac: [Install DNSmasq](../dnsmasq/mac/install_dnsmasq.ipynb)\n",
    "  - Linux: [Install DNSmasq](../../dnsmasq/linux/install_dnsmasq.ipynb)\n",
    "  - Windows: Install Acrylic... coming soon!\n",
    "- [Install Monitoring](../monitoring/install_kube-prometheus-stack.ipynb)\n",
    "- [Install Logging](../logging/install_loki.ipynb)\n",
    "- [Install cert-manager](../cert-manager/install_cert-manager.ipynb)\n",
    "- [Install Ingress Controller](../ingress/install_ingress-nginx.ipynb)\n",
    "- [Install Postgres](../postgres/install_postgres.ipynb)\n",
    "- [Install OpenLDAP](../openldap/install_openldap.ipynb)\n",
    "- [Install Keycloak](../keycloak/install_keycloak.ipynb)"
   ]
  },
  {
   "cell_type": "markdown",
   "id": "e5a3dd88-2ad4-4aeb-86ae-153965f222c8",
   "metadata": {},
   "source": [
    "### Clone the kube-oidc-proxy repository\n",
    "\n",
    "Start by cloning the kube-oidc-proxy repository locally.  This repo contains a helm chart we will use below to install the application to our cluster."
   ]
  },
  {
   "cell_type": "code",
   "execution_count": 1,
   "id": "3ad560f0-0946-4a15-9330-d00702cba808",
   "metadata": {},
   "outputs": [
    {
     "name": "stdout",
     "output_type": "stream",
     "text": [
      "Cloning into 'kube-oidc-proxy'...\n",
      "remote: Enumerating objects: 63260, done.\u001b[K\n",
      "remote: Counting objects: 100% (45/45), done.\u001b[K\n",
      "remote: Compressing objects: 100% (28/28), done.\u001b[K\n",
      "remote: Total 63260 (delta 15), reused 34 (delta 13), pack-reused 63215\u001b[K\n",
      "Receiving objects: 100% (63260/63260), 105.31 MiB | 13.13 MiB/s, done.\n",
      "Resolving deltas: 100% (26405/26405), done.\n"
     ]
    }
   ],
   "source": [
    "git clone https://github.com/jetstack/kube-oidc-proxy.git"
   ]
  },
  {
   "cell_type": "markdown",
   "id": "0c40b583-8a98-4bc7-ac4f-6c87325bcce0",
   "metadata": {},
   "source": [
    "### Install kube-oidc-proxy\n",
    "\n",
    "Use helm to install the kube-oidc-proxy application.  For our demonstration, we are using `values.nephtek.yaml` that configures kube-oidc-proxy to talk to the Keycloak server we installed earlier, and to expose the proxy at `kube-api.k8s.nephtek.com`.  It uses the `nephtek-com-issuer` certificate issuer to create and manage the TLS certificate used by the ingress."
   ]
  },
  {
   "cell_type": "code",
   "execution_count": 2,
   "id": "a6b5d308-0a34-44a1-b0c6-7e161161e85e",
   "metadata": {},
   "outputs": [
    {
     "name": "stdout",
     "output_type": "stream",
     "text": [
      "Release \"kube-oidc-proxy\" does not exist. Installing it now.\n",
      "NAME: kube-oidc-proxy\n",
      "LAST DEPLOYED: Sun Oct  2 09:12:07 2022\n",
      "NAMESPACE: kube-oidc-proxy\n",
      "STATUS: deployed\n",
      "REVISION: 1\n",
      "NOTES:\n",
      "1. Get the application URL by running these commands:\n",
      "  export POD_NAME=$(kubectl get pods --namespace kube-oidc-proxy -l \"app.kubernetes.io/name=kube-oidc-proxy,app.kubernetes.io/instance=kube-oidc-proxy\" -o jsonpath=\"{.items[0].metadata.name}\")\n",
      "  echo \"Visit http://127.0.0.1:8080 to use your application\"\n",
      "  kubectl port-forward $POD_NAME 8080:80\n"
     ]
    }
   ],
   "source": [
    "helm upgrade --install -n kube-oidc-proxy --create-namespace kube-oidc-proxy kube-oidc-proxy/deploy/charts/kube-oidc-proxy/ -f values.nephtek.yaml"
   ]
  },
  {
   "cell_type": "markdown",
   "id": "809296dc-208e-454d-8ed0-ab76a19161cb",
   "metadata": {},
   "source": [
    "### Install roles & clusterroles\n",
    "\n",
    "From here all that remains is to install roles and clusterroles to enable LDAP users and groups to gain access to the cluster.  "
   ]
  },
  {
   "cell_type": "code",
   "execution_count": 3,
   "id": "2cf166b0-bcc8-405e-8e7f-c03306473072",
   "metadata": {},
   "outputs": [
    {
     "name": "stdout",
     "output_type": "stream",
     "text": [
      "clusterrolebinding.rbac.authorization.k8s.io/oidc-admin-group created\n",
      "ingress.networking.k8s.io/kube-oidc-proxy created\n"
     ]
    }
   ],
   "source": [
    "kubectl apply -k kustomize/overlays/rancher-desktop/"
   ]
  },
  {
   "cell_type": "markdown",
   "id": "4dea6726-ef3f-40d5-92df-6e1a3bd273d9",
   "metadata": {},
   "source": [
    "### Install oidc-login kubectl plugin\n",
    "\n",
    "Since the OIDC standard is a web-based login standard, kubectl needs a plugin in order to defer login and\n",
    "token refresh requests to the browser.  The `oidc-login` kubectl plugin, also known as `kubelogin`, provides\n",
    "these features.\n",
    "\n",
    "We will use the `krew` plugin manager for kubectl to install the `oidc-login` plugin.  Start by installing `krew` \n",
    "using the instructions found [here](https://krew.sigs.k8s.io/docs/user-guide/setup/install/).\n",
    "\n",
    "Once `krew` is installed, we can use it to install the `oidc-login` plugin:"
   ]
  },
  {
   "cell_type": "code",
   "execution_count": 4,
   "id": "5248484d-cfb8-4a5f-833e-4e1a40bc07dc",
   "metadata": {},
   "outputs": [
    {
     "name": "stdout",
     "output_type": "stream",
     "text": [
      "Updated the local copy of plugin index.\n",
      "  New plugins available:\n",
      "    * accurate\n",
      "    * applier\n",
      "    * aws-auth\n",
      "    * cnpg\n",
      "    * colorize-applied\n",
      "    * confirm\n",
      "    * count\n",
      "    * datree\n",
      "    * dds\n",
      "    * directpv\n",
      "    * discover\n",
      "    * dtlogin\n",
      "    * execws\n",
      "    * explore\n",
      "    * foreach\n",
      "    * htpasswd\n",
      "    * ice\n",
      "    * ingress-rule\n",
      "    * kadalu\n",
      "    * kc\n",
      "    * kruise\n",
      "    * ktop\n",
      "    * kuota-calc\n",
      "    * linstor\n",
      "    * liqo\n",
      "    * log2rbac\n",
      "    * moco\n",
      "    * nsenter\n",
      "    * print-env\n",
      "    * pv-migrate\n",
      "    * realname-diff\n",
      "    * relay\n",
      "    * rename-pvc\n",
      "    * safe\n",
      "    * secretdata\n",
      "    * stern\n",
      "    * strace\n",
      "    * switch-config\n",
      "    * volsync\n",
      "    * vpa-recommendation\n",
      "    * windows-debug\n",
      "  Upgrades available for installed plugins:\n",
      "    * gadget v0.3.1 -> v0.8.0\n",
      "    * krew v0.4.2 -> v0.4.3\n",
      "    * kyverno v1.5.1 -> v1.7.4\n",
      "    * lineage v0.4.1 -> v0.5.0\n",
      "    * minio v4.3.1 -> v4.5.1\n",
      "    * oidc-login v1.25.0 -> v1.25.3\n",
      "    * rabbitmq v1.10.0 -> v2.0.0\n",
      "    * sniff v1.6.1 -> v1.6.2\n",
      "    * tree v0.4.1 -> v0.4.2\n",
      "    * tunnel v1.4.4 -> v1.4.8\n",
      "    * view-secret v0.8.1 -> v0.10.0\n",
      "Installing plugin: oidc-login\n",
      "W1002 09:12:26.767930 1413908 install.go:160] Skipping plugin \"oidc-login\", it is already installed\n"
     ]
    }
   ],
   "source": [
    "kubectl krew install oidc-login"
   ]
  },
  {
   "cell_type": "markdown",
   "id": "e133c8c8-44ec-4f47-b65d-0a0b8fe9706e",
   "metadata": {},
   "source": [
    "### Finished\n"
   ]
  }
 ],
 "metadata": {
  "kernelspec": {
   "display_name": "Bash",
   "language": "bash",
   "name": "bash"
  },
  "language_info": {
   "codemirror_mode": "shell",
   "file_extension": ".sh",
   "mimetype": "text/x-sh",
   "name": "bash"
  }
 },
 "nbformat": 4,
 "nbformat_minor": 5
}
