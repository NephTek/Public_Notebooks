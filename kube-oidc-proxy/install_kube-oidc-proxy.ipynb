{
 "cells": [
  {
   "cell_type": "markdown",
   "id": "c46e8892-2164-40e1-be25-60d66781413c",
   "metadata": {},
   "source": [
    "# Installing kube-oidc-proxy\n",
    "\n",
    "The kube-oidc-proxy project creates a proxy to the Kubernetes API Server that utlizes the OIDC standard for authentication. \n",
    "\n",
    "## Prerequisiites\n",
    "- [Learning Jupyter](../getting-started/learning_jupyter.ipynb)\n",
    "- Install Jupyter bash kernel:\n",
    "  - Windows... coming soon!\n",
    "  - [Mac](../getting-started/mac/install_jupyter_bash_kernel.ipynb)\n",
    "  - [Linux](../getting-started/linux/install_jupyter_bash_kernel.ipynb)\n",
    "- [Install Kubernetes](../kubernetes/install_k8s_cluster.ipynb)\n",
    "- Configure DNS\n",
    "  - Mac: [Install DNSmasq](../dnsmasq/mac/install_dnsmasq.ipynb)\n",
    "  - Linux: Install DNSmasmq... coming soon!\n",
    "  - Windows: Install Acrylic... coming soon!\n",
    "- [Install Monitoring](../monitoring/install_kube-prometheus-stack.ipynb)\n",
    "- [Install Logging](../logging/install_loki.ipynb)\n",
    "- [Install cert-manager](../cert-manager/install_cert-manager.ipynb)\n",
    "- [Install Ingress Controller](../ingress/install_ingress-nginx.ipynb)\n",
    "- [Install Postgres](../postgres/install_postgres.ipynb)\n",
    "- [Install OpenLDAP](../openldap/install_openldap.ipynb)\n",
    "- [Install Keycloak](../keycloak/install_keycloak.ipynb)\n",
    "- [Install kube-oidc-proxy](../kube-oidc-proxy/install_kube-oidc-proxy.ipynb)"
   ]
  },
  {
   "cell_type": "markdown",
   "id": "384b0758-0f7d-40f7-822a-e5d4430ba46a",
   "metadata": {},
   "source": [
    "### Finished"
   ]
  }
 ],
 "metadata": {
  "kernelspec": {
   "display_name": "Bash",
   "language": "bash",
   "name": "bash"
  },
  "language_info": {
   "codemirror_mode": "shell",
   "file_extension": ".sh",
   "mimetype": "text/x-sh",
   "name": "bash"
  }
 },
 "nbformat": 4,
 "nbformat_minor": 5
}
