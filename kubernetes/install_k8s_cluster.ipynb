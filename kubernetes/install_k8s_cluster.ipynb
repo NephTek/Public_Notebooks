{
 "cells": [
  {
   "cell_type": "markdown",
   "id": "7889018d-aca7-4fa4-8cb4-e90a8f42f9fa",
   "metadata": {},
   "source": [
    "# Installing Kubernetes\n",
    "There are many options to choose from when installing and configuring Kubernetes on a local development system.  Docker Deskop, minikube, k3s, k0s, and Rancher Desktop all provide compliant Kubernetes installations on local develpment machines.  For our notebooks, we've chosen Rancher Desktop as our recommended platform.\n",
    "\n",
    "Rancher Desktop utilizes k3s, and allows the user to select the version of Kubernetes, the container runtime to utilize (docker or containerd), and optionally an ingress controller (Traefik).  For our notebooks, we use the latest version available for Kubernetes and the containerd runtime, and we disable the Traefik ingress controller.\n",
    "\n",
    "## Prerequisites\n",
    "- [Learning Jupyter](../../getting-started/learning_jupyter.ipynb)\n",
    "- Install Jupyter bash kernel:\n",
    "  - Windows... coming soon!\n",
    "  - [Mac](../../getting-started/mac/install_jupyter_bash_kernel.ipynb)\n",
    "  - [Linux](../../getting-started/linux/install_jupyter_bash_kernel.ipynb)\n",
    "\n",
    "## Install Rancher Desktop\n",
    "[Follow Rancher Desktop's instructions for installation](https://rancherdesktop.io) for your platform. \n",
    "\n",
    "Rancher Desktop forwards k8s host ports available on the k8s node to `localhost`, allowing us to treat `localhost` the same as a load balancer to our k8s cluster.  In order to mimic this behavior completely, and to allow us to test locally in our browser, we will setup a local DNS server (DNSMasq on Mac & Linux, Acrylic on Windows) so that we can route private DNS names to `localhost`.  This allows us to test HTTPS websites in web browsers with fully valid TLS certificates.\n",
    "\n",
    "### Finished \n",
    "\n",
    "Your personal Kubernetes desktop can be started and stopped by running/stopping the Rancher Desktop application.  The Rancher Desktop application alos has a control panel that allows the configuration and version of the cluster.\n",
    "\n",
    "### Next Steps\n",
    "- Configure DNS\n",
    "  - Mac: [Install DNSmasq](../../dnsmasq/mac/install_dnsmasq.ipynb)\n",
    "  - Linux: Install DNSmasmq... coming soon!\n",
    "  - Windows: Install Acrylic... coming soon!\n"
   ]
  }
 ],
 "metadata": {
  "kernelspec": {
   "display_name": "Bash",
   "language": "bash",
   "name": "bash"
  },
  "language_info": {
   "codemirror_mode": "shell",
   "file_extension": ".sh",
   "mimetype": "text/x-sh",
   "name": "bash"
  }
 },
 "nbformat": 4,
 "nbformat_minor": 5
}
