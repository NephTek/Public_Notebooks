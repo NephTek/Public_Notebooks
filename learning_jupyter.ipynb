{
 "cells": [
  {
   "cell_type": "markdown",
   "id": "9599fc2a-923b-481d-be91-f03c691122d8",
   "metadata": {},
   "source": [
    "# Learning Jupyter\n",
    "## Prerequisites\n",
    "- None!  This is the starting point.\n",
    "\n",
    "## About Jupyter\n",
    "Jupyter is a powerful tool that interleaves \"markdown\" with runnable code.  Although originally intended for running Python code, Jupyter now provides extensible kernels that allow code other than Python.  \n",
    "\n",
    "At NephTek, we use Jupyter Notebooks extensively for our training material.  Our notebooks make use of your local Kubernetes configuration to install and configure components in a live environment, whether your Kubernetes cluster is installed on your local machine, on-premises, or in the Cloud with one of the major cloud vendors.  If you don't have a Kubernetes cluster, we even provide notebooks to help you install a local cluster for development and testing.  \n",
    "\n",
    "For MacOS and Linux machines, we utilize the [bash kernel](https://github.com/takluyver/bash_kernel), while on Windows we utliize the [powerhsell kernel](https://github.com/vors/jupyter-powershell).  These kernels are required before running the other notebooks.  The notebooks that conver the installation of these kernels can be found at:\n",
    "- Windows: [Installing the Powershell Kernel for Jupyter](windows_powershell_kernel_install.ipynb)\n",
    "- Linux/MacOS: [Installing the Bash Kernel for Jupyter](m1mac_bash_kernel_isntall.ipynb)\n",
    "\n",
    "The complete set of NephTek's training notebooks can be viewed on the web at our [GitHub site](https://github.com/NephTek/Public_Notebooks).  For the best experience, use 'git' to checkout the repository locally and run Jupyter so that the notebooks are interactive--the notebooks will run the same commands in your local environment, installing and configuring applications in your own Kubernetes enviornment.\n",
    "\n",
    "## About Jupyter \n",
    "Jupyter provides the ability to interleave \"markdown\" with runnable code.  Markdown is a simple and easy-to-use markup language that allows for rich text formatting without requiring extensive knowledge of HTML.  See [this guide for a quick tutorial](https://www.datacamp.com/community/tutorials/markdown-in-jupyter-notebook) for Jupyter's variant of Markdown, and see [this cheatsheet for a quick reference to common Jupyter markdown](https://www.ibm.com/docs/en/watson-studio-local/1.2.3?topic=notebooks-markdown-jupyter-cheatsheet).\n",
    "\n",
    "## Installing Jupyter\n",
    "Jupyter requires Python v3.x to run.  There are several ways to install Jupyter and its extensions, but for these notebooks, we will make use of `pip`, the Package Installer for Python, to install all of the relevant components. \n",
    "\n",
    "### Check Python versions\n",
    "Start by checking which version of python is installed.  If `python` refers to v2.x, you may need to use `python3` instead of `python`."
   ]
  },
  {
   "cell_type": "code",
   "execution_count": 1,
   "id": "0075f7ce-e31d-4494-a2b6-4c3653e97753",
   "metadata": {},
   "outputs": [
    {
     "name": "stdout",
     "output_type": "stream",
     "text": [
      "Python 2.7.18\n"
     ]
    }
   ],
   "source": [
    "!python --version"
   ]
  },
  {
   "cell_type": "code",
   "execution_count": 2,
   "id": "0f49b914-cadd-45d5-8bdc-96b36dc02ce3",
   "metadata": {},
   "outputs": [
    {
     "name": "stdout",
     "output_type": "stream",
     "text": [
      "Python 3.9.9\n"
     ]
    }
   ],
   "source": [
    "!python3 --version"
   ]
  },
  {
   "cell_type": "markdown",
   "id": "64bbaf27-6710-4d0c-bc32-a0e97a91f5d5",
   "metadata": {},
   "source": [
    "If Python v3.x is not installed, follow the [download/installation guide for Python](https://www.python.org/downloads/).\n",
    "\n",
    "In our case, 'python' refers to v2.x, so we need to use `python3` instead. \n",
    "\n",
    "### Check pip versions"
   ]
  },
  {
   "cell_type": "code",
   "execution_count": 3,
   "id": "83d7778b-224c-4f9c-b395-bc41ba31ec1f",
   "metadata": {},
   "outputs": [
    {
     "name": "stdout",
     "output_type": "stream",
     "text": [
      "pip 22.0.3 from /opt/homebrew/lib/python3.9/site-packages/pip (python 3.9)\n"
     ]
    }
   ],
   "source": [
    "!pip --version"
   ]
  },
  {
   "cell_type": "code",
   "execution_count": 4,
   "id": "1209d0a8-c97c-43b2-b302-28468151952d",
   "metadata": {},
   "outputs": [
    {
     "name": "stdout",
     "output_type": "stream",
     "text": [
      "pip 22.0.3 from /opt/homebrew/lib/python3.9/site-packages/pip (python 3.9)\n"
     ]
    }
   ],
   "source": [
    "!pip3 --version"
   ]
  },
  {
   "cell_type": "markdown",
   "id": "1a202b21-dc65-479e-a7f7-b22de9b3abaa",
   "metadata": {},
   "source": [
    "If pip for Python v3.x is not installed, follow the [installation instructions for pip](https://pip.pypa.io/en/stable/installation/).\n",
    "\n",
    "In our case, both `pip` and `pip3` refer to the v3.x version, so either would work.  We'll use `pip3` to be consistant and to prevent confusion.\n",
    "\n",
    "### Install Jupyter\n",
    "Jupyter comes in two versions: Jupyter Notebook and Jupyter Lab.  Both are similar, and both will run all of the NephTek training notebooks.  Jupyter Lab is meant to be the successor to Jupyter Notebook, but the minor differences may cause some users to select Jupyter Notebook instead.  \n",
    "\n",
    "With Jupyter Notebook, when a user selects a `.ipynb` file from the file chooser, the notebook will appear in an entirely new browser tab.  With Jupyter Lab, the notebook opens as a tab inside the Jupyter Lab interface.  Jupyter Lab provides support for file types other than `.ipynb`--try opening an Excel comma-separated value file (a `.csv`) file as an example.  Jupyter Lab also provides a Console and a Terminal from the `File`->`New` menu.  The Console provides a language/kernel-specific scratch pad to work within, while Terminal provides an interactive shell to the local environment.  Jupyter Lab also has an extension framework, allowing user-installed extensions to enhance the viewing, editing, and running experience with Jupyter notebooks.\n",
    "\n",
    "Aside from these differences, the operation is very similar between the two.  Install both and try them out--you may find you have a preference for the user experience provided by the classic Jupyter Notebook over the newer Jupyter Lab.\n",
    "\n",
    "#### Install Jupyter Notebook"
   ]
  },
  {
   "cell_type": "code",
   "execution_count": 5,
   "id": "b5147474-981b-45fe-8143-1b9db829ed7d",
   "metadata": {},
   "outputs": [
    {
     "name": "stdout",
     "output_type": "stream",
     "text": [
      "\u001b[33mDEPRECATION: Configuring installation scheme with distutils config files is deprecated and will no longer work in the near future. If you are using a Homebrew or Linuxbrew Python, please see discussion at https://github.com/Homebrew/homebrew-core/issues/76621\u001b[0m\u001b[33m\n",
      "\u001b[0mRequirement already satisfied: jupyterlab in /opt/homebrew/lib/python3.9/site-packages (3.2.8)\n",
      "Requirement already satisfied: jupyter-server~=1.4 in /opt/homebrew/lib/python3.9/site-packages (from jupyterlab) (1.13.4)\n",
      "Requirement already satisfied: nbclassic~=0.2 in /opt/homebrew/lib/python3.9/site-packages (from jupyterlab) (0.3.5)\n",
      "Requirement already satisfied: jinja2>=2.1 in /opt/homebrew/lib/python3.9/site-packages (from jupyterlab) (3.0.3)\n",
      "Requirement already satisfied: packaging in /opt/homebrew/lib/python3.9/site-packages (from jupyterlab) (21.3)\n",
      "Requirement already satisfied: tornado>=6.1.0 in /opt/homebrew/lib/python3.9/site-packages (from jupyterlab) (6.1)\n",
      "Requirement already satisfied: ipython in /opt/homebrew/lib/python3.9/site-packages (from jupyterlab) (7.30.0)\n",
      "Requirement already satisfied: jupyterlab-server~=2.3 in /opt/homebrew/lib/python3.9/site-packages (from jupyterlab) (2.10.3)\n",
      "Requirement already satisfied: jupyter-core in /opt/homebrew/lib/python3.9/site-packages (from jupyterlab) (4.9.1)\n",
      "Requirement already satisfied: MarkupSafe>=2.0 in /opt/homebrew/lib/python3.9/site-packages (from jinja2>=2.1->jupyterlab) (2.0.1)\n",
      "Requirement already satisfied: websocket-client in /opt/homebrew/lib/python3.9/site-packages (from jupyter-server~=1.4->jupyterlab) (1.2.3)\n",
      "Requirement already satisfied: prometheus-client in /opt/homebrew/lib/python3.9/site-packages (from jupyter-server~=1.4->jupyterlab) (0.13.1)\n",
      "Requirement already satisfied: ipython-genutils in /opt/homebrew/lib/python3.9/site-packages (from jupyter-server~=1.4->jupyterlab) (0.2.0)\n",
      "Requirement already satisfied: traitlets>=5 in /opt/homebrew/lib/python3.9/site-packages (from jupyter-server~=1.4->jupyterlab) (5.1.1)\n",
      "Requirement already satisfied: jupyter-client>=6.1.1 in /opt/homebrew/lib/python3.9/site-packages (from jupyter-server~=1.4->jupyterlab) (7.1.0)\n",
      "Requirement already satisfied: nbformat in /opt/homebrew/lib/python3.9/site-packages (from jupyter-server~=1.4->jupyterlab) (5.1.3)\n",
      "Requirement already satisfied: nbconvert in /opt/homebrew/lib/python3.9/site-packages (from jupyter-server~=1.4->jupyterlab) (6.4.1)\n",
      "Requirement already satisfied: argon2-cffi in /opt/homebrew/lib/python3.9/site-packages (from jupyter-server~=1.4->jupyterlab) (21.3.0)\n",
      "Requirement already satisfied: anyio<4,>=3.1.0 in /opt/homebrew/lib/python3.9/site-packages (from jupyter-server~=1.4->jupyterlab) (3.5.0)\n",
      "Requirement already satisfied: terminado>=0.8.3 in /opt/homebrew/lib/python3.9/site-packages (from jupyter-server~=1.4->jupyterlab) (0.13.1)\n",
      "Requirement already satisfied: Send2Trash in /opt/homebrew/lib/python3.9/site-packages (from jupyter-server~=1.4->jupyterlab) (1.8.0)\n",
      "Requirement already satisfied: pyzmq>=17 in /opt/homebrew/lib/python3.9/site-packages (from jupyter-server~=1.4->jupyterlab) (22.3.0)\n",
      "Requirement already satisfied: entrypoints>=0.2.2 in /opt/homebrew/lib/python3.9/site-packages (from jupyterlab-server~=2.3->jupyterlab) (0.3)\n",
      "Requirement already satisfied: jsonschema>=3.0.1 in /opt/homebrew/lib/python3.9/site-packages (from jupyterlab-server~=2.3->jupyterlab) (4.4.0)\n",
      "Requirement already satisfied: babel in /opt/homebrew/lib/python3.9/site-packages (from jupyterlab-server~=2.3->jupyterlab) (2.9.1)\n",
      "Requirement already satisfied: json5 in /opt/homebrew/lib/python3.9/site-packages (from jupyterlab-server~=2.3->jupyterlab) (0.9.6)\n",
      "Requirement already satisfied: requests in /opt/homebrew/lib/python3.9/site-packages (from jupyterlab-server~=2.3->jupyterlab) (2.27.1)\n",
      "Requirement already satisfied: notebook<7 in /opt/homebrew/lib/python3.9/site-packages (from nbclassic~=0.2->jupyterlab) (6.4.8)\n",
      "Requirement already satisfied: appnope in /opt/homebrew/lib/python3.9/site-packages (from ipython->jupyterlab) (0.1.2)\n",
      "Requirement already satisfied: decorator in /opt/homebrew/lib/python3.9/site-packages (from ipython->jupyterlab) (5.1.0)\n",
      "Requirement already satisfied: matplotlib-inline in /opt/homebrew/lib/python3.9/site-packages (from ipython->jupyterlab) (0.1.3)\n",
      "Requirement already satisfied: pexpect>4.3 in /opt/homebrew/lib/python3.9/site-packages (from ipython->jupyterlab) (4.8.0)\n",
      "Requirement already satisfied: backcall in /opt/homebrew/lib/python3.9/site-packages (from ipython->jupyterlab) (0.2.0)\n",
      "Requirement already satisfied: pickleshare in /opt/homebrew/lib/python3.9/site-packages (from ipython->jupyterlab) (0.7.5)\n",
      "Requirement already satisfied: setuptools>=18.5 in /opt/homebrew/lib/python3.9/site-packages (from ipython->jupyterlab) (59.0.1)\n",
      "Requirement already satisfied: prompt-toolkit!=3.0.0,!=3.0.1,<3.1.0,>=2.0.0 in /opt/homebrew/lib/python3.9/site-packages (from ipython->jupyterlab) (3.0.23)\n",
      "Requirement already satisfied: pygments in /opt/homebrew/lib/python3.9/site-packages (from ipython->jupyterlab) (2.10.0)\n",
      "Requirement already satisfied: jedi>=0.16 in /opt/homebrew/lib/python3.9/site-packages (from ipython->jupyterlab) (0.18.1)\n",
      "Requirement already satisfied: pyparsing!=3.0.5,>=2.0.2 in /opt/homebrew/lib/python3.9/site-packages (from packaging->jupyterlab) (3.0.7)\n",
      "Requirement already satisfied: sniffio>=1.1 in /opt/homebrew/lib/python3.9/site-packages (from anyio<4,>=3.1.0->jupyter-server~=1.4->jupyterlab) (1.2.0)\n",
      "Requirement already satisfied: idna>=2.8 in /opt/homebrew/lib/python3.9/site-packages (from anyio<4,>=3.1.0->jupyter-server~=1.4->jupyterlab) (3.3)\n",
      "Requirement already satisfied: parso<0.9.0,>=0.8.0 in /opt/homebrew/lib/python3.9/site-packages (from jedi>=0.16->ipython->jupyterlab) (0.8.2)\n",
      "Requirement already satisfied: attrs>=17.4.0 in /opt/homebrew/lib/python3.9/site-packages (from jsonschema>=3.0.1->jupyterlab-server~=2.3->jupyterlab) (21.4.0)\n",
      "Requirement already satisfied: pyrsistent!=0.17.0,!=0.17.1,!=0.17.2,>=0.14.0 in /opt/homebrew/lib/python3.9/site-packages (from jsonschema>=3.0.1->jupyterlab-server~=2.3->jupyterlab) (0.18.1)\n",
      "Requirement already satisfied: python-dateutil>=2.1 in /opt/homebrew/lib/python3.9/site-packages (from jupyter-client>=6.1.1->jupyter-server~=1.4->jupyterlab) (2.8.2)\n",
      "Requirement already satisfied: nest-asyncio>=1.5 in /opt/homebrew/lib/python3.9/site-packages (from jupyter-client>=6.1.1->jupyter-server~=1.4->jupyterlab) (1.5.1)\n",
      "Requirement already satisfied: ipykernel in /opt/homebrew/lib/python3.9/site-packages (from notebook<7->nbclassic~=0.2->jupyterlab) (6.5.1)\n",
      "Requirement already satisfied: ptyprocess>=0.5 in /opt/homebrew/lib/python3.9/site-packages (from pexpect>4.3->ipython->jupyterlab) (0.7.0)\n",
      "Requirement already satisfied: wcwidth in /opt/homebrew/lib/python3.9/site-packages (from prompt-toolkit!=3.0.0,!=3.0.1,<3.1.0,>=2.0.0->ipython->jupyterlab) (0.2.5)\n",
      "Requirement already satisfied: argon2-cffi-bindings in /opt/homebrew/lib/python3.9/site-packages (from argon2-cffi->jupyter-server~=1.4->jupyterlab) (21.2.0)\n",
      "Requirement already satisfied: pytz>=2015.7 in /opt/homebrew/lib/python3.9/site-packages (from babel->jupyterlab-server~=2.3->jupyterlab) (2021.3)\n",
      "Requirement already satisfied: nbclient<0.6.0,>=0.5.0 in /opt/homebrew/lib/python3.9/site-packages (from nbconvert->jupyter-server~=1.4->jupyterlab) (0.5.10)\n",
      "Requirement already satisfied: pandocfilters>=1.4.1 in /opt/homebrew/lib/python3.9/site-packages (from nbconvert->jupyter-server~=1.4->jupyterlab) (1.5.0)\n",
      "Requirement already satisfied: bleach in /opt/homebrew/lib/python3.9/site-packages (from nbconvert->jupyter-server~=1.4->jupyterlab) (4.1.0)\n",
      "Requirement already satisfied: mistune<2,>=0.8.1 in /opt/homebrew/lib/python3.9/site-packages (from nbconvert->jupyter-server~=1.4->jupyterlab) (0.8.4)\n",
      "Requirement already satisfied: jupyterlab-pygments in /opt/homebrew/lib/python3.9/site-packages (from nbconvert->jupyter-server~=1.4->jupyterlab) (0.1.2)\n",
      "Requirement already satisfied: testpath in /opt/homebrew/lib/python3.9/site-packages (from nbconvert->jupyter-server~=1.4->jupyterlab) (0.5.0)\n",
      "Requirement already satisfied: defusedxml in /opt/homebrew/lib/python3.9/site-packages (from nbconvert->jupyter-server~=1.4->jupyterlab) (0.7.1)\n",
      "Requirement already satisfied: certifi>=2017.4.17 in /opt/homebrew/lib/python3.9/site-packages (from requests->jupyterlab-server~=2.3->jupyterlab) (2021.10.8)\n",
      "Requirement already satisfied: charset-normalizer~=2.0.0 in /opt/homebrew/lib/python3.9/site-packages (from requests->jupyterlab-server~=2.3->jupyterlab) (2.0.10)\n",
      "Requirement already satisfied: urllib3<1.27,>=1.21.1 in /opt/homebrew/lib/python3.9/site-packages (from requests->jupyterlab-server~=2.3->jupyterlab) (1.26.8)\n",
      "Requirement already satisfied: six>=1.5 in /opt/homebrew/lib/python3.9/site-packages (from python-dateutil>=2.1->jupyter-client>=6.1.1->jupyter-server~=1.4->jupyterlab) (1.16.0)\n",
      "Requirement already satisfied: cffi>=1.0.1 in /opt/homebrew/lib/python3.9/site-packages (from argon2-cffi-bindings->argon2-cffi->jupyter-server~=1.4->jupyterlab) (1.15.0)\n",
      "Requirement already satisfied: webencodings in /opt/homebrew/lib/python3.9/site-packages (from bleach->nbconvert->jupyter-server~=1.4->jupyterlab) (0.5.1)\n",
      "Requirement already satisfied: debugpy<2.0,>=1.0.0 in /opt/homebrew/lib/python3.9/site-packages (from ipykernel->notebook<7->nbclassic~=0.2->jupyterlab) (1.5.1)\n",
      "Requirement already satisfied: pycparser in /opt/homebrew/lib/python3.9/site-packages (from cffi>=1.0.1->argon2-cffi-bindings->argon2-cffi->jupyter-server~=1.4->jupyterlab) (2.21)\n",
      "\u001b[33mDEPRECATION: Configuring installation scheme with distutils config files is deprecated and will no longer work in the near future. If you are using a Homebrew or Linuxbrew Python, please see discussion at https://github.com/Homebrew/homebrew-core/issues/76621\u001b[0m\u001b[33m\n",
      "\u001b[0m"
     ]
    }
   ],
   "source": [
    "!pip3 install jupyterlab"
   ]
  },
  {
   "cell_type": "markdown",
   "id": "b8102dcc-2d1d-41e3-a350-598342848af5",
   "metadata": {},
   "source": [
    "#### Install Jupyter Lab"
   ]
  },
  {
   "cell_type": "code",
   "execution_count": 7,
   "id": "6a2a3ff0-0167-4477-b70c-3296185f3a71",
   "metadata": {},
   "outputs": [
    {
     "name": "stdout",
     "output_type": "stream",
     "text": [
      "\u001b[33mDEPRECATION: Configuring installation scheme with distutils config files is deprecated and will no longer work in the near future. If you are using a Homebrew or Linuxbrew Python, please see discussion at https://github.com/Homebrew/homebrew-core/issues/76621\u001b[0m\u001b[33m\n",
      "\u001b[0mRequirement already satisfied: jupyterlab in /opt/homebrew/lib/python3.9/site-packages (3.2.8)\n",
      "Requirement already satisfied: jupyter-core in /opt/homebrew/lib/python3.9/site-packages (from jupyterlab) (4.9.1)\n",
      "Requirement already satisfied: jinja2>=2.1 in /opt/homebrew/lib/python3.9/site-packages (from jupyterlab) (3.0.3)\n",
      "Requirement already satisfied: ipython in /opt/homebrew/lib/python3.9/site-packages (from jupyterlab) (7.30.0)\n",
      "Requirement already satisfied: jupyterlab-server~=2.3 in /opt/homebrew/lib/python3.9/site-packages (from jupyterlab) (2.10.3)\n",
      "Requirement already satisfied: nbclassic~=0.2 in /opt/homebrew/lib/python3.9/site-packages (from jupyterlab) (0.3.5)\n",
      "Requirement already satisfied: jupyter-server~=1.4 in /opt/homebrew/lib/python3.9/site-packages (from jupyterlab) (1.13.4)\n",
      "Requirement already satisfied: packaging in /opt/homebrew/lib/python3.9/site-packages (from jupyterlab) (21.3)\n",
      "Requirement already satisfied: tornado>=6.1.0 in /opt/homebrew/lib/python3.9/site-packages (from jupyterlab) (6.1)\n",
      "Requirement already satisfied: MarkupSafe>=2.0 in /opt/homebrew/lib/python3.9/site-packages (from jinja2>=2.1->jupyterlab) (2.0.1)\n",
      "Requirement already satisfied: nbformat in /opt/homebrew/lib/python3.9/site-packages (from jupyter-server~=1.4->jupyterlab) (5.1.3)\n",
      "Requirement already satisfied: terminado>=0.8.3 in /opt/homebrew/lib/python3.9/site-packages (from jupyter-server~=1.4->jupyterlab) (0.13.1)\n",
      "Requirement already satisfied: anyio<4,>=3.1.0 in /opt/homebrew/lib/python3.9/site-packages (from jupyter-server~=1.4->jupyterlab) (3.5.0)\n",
      "Requirement already satisfied: Send2Trash in /opt/homebrew/lib/python3.9/site-packages (from jupyter-server~=1.4->jupyterlab) (1.8.0)\n",
      "Requirement already satisfied: traitlets>=5 in /opt/homebrew/lib/python3.9/site-packages (from jupyter-server~=1.4->jupyterlab) (5.1.1)\n",
      "Requirement already satisfied: pyzmq>=17 in /opt/homebrew/lib/python3.9/site-packages (from jupyter-server~=1.4->jupyterlab) (22.3.0)\n",
      "Requirement already satisfied: argon2-cffi in /opt/homebrew/lib/python3.9/site-packages (from jupyter-server~=1.4->jupyterlab) (21.3.0)\n",
      "Requirement already satisfied: prometheus-client in /opt/homebrew/lib/python3.9/site-packages (from jupyter-server~=1.4->jupyterlab) (0.13.1)\n",
      "Requirement already satisfied: websocket-client in /opt/homebrew/lib/python3.9/site-packages (from jupyter-server~=1.4->jupyterlab) (1.2.3)\n",
      "Requirement already satisfied: nbconvert in /opt/homebrew/lib/python3.9/site-packages (from jupyter-server~=1.4->jupyterlab) (6.4.1)\n",
      "Requirement already satisfied: ipython-genutils in /opt/homebrew/lib/python3.9/site-packages (from jupyter-server~=1.4->jupyterlab) (0.2.0)\n",
      "Requirement already satisfied: jupyter-client>=6.1.1 in /opt/homebrew/lib/python3.9/site-packages (from jupyter-server~=1.4->jupyterlab) (7.1.0)\n",
      "Requirement already satisfied: jsonschema>=3.0.1 in /opt/homebrew/lib/python3.9/site-packages (from jupyterlab-server~=2.3->jupyterlab) (4.4.0)\n",
      "Requirement already satisfied: json5 in /opt/homebrew/lib/python3.9/site-packages (from jupyterlab-server~=2.3->jupyterlab) (0.9.6)\n",
      "Requirement already satisfied: babel in /opt/homebrew/lib/python3.9/site-packages (from jupyterlab-server~=2.3->jupyterlab) (2.9.1)\n",
      "Requirement already satisfied: entrypoints>=0.2.2 in /opt/homebrew/lib/python3.9/site-packages (from jupyterlab-server~=2.3->jupyterlab) (0.3)\n",
      "Requirement already satisfied: requests in /opt/homebrew/lib/python3.9/site-packages (from jupyterlab-server~=2.3->jupyterlab) (2.27.1)\n",
      "Requirement already satisfied: notebook<7 in /opt/homebrew/lib/python3.9/site-packages (from nbclassic~=0.2->jupyterlab) (6.4.8)\n",
      "Requirement already satisfied: matplotlib-inline in /opt/homebrew/lib/python3.9/site-packages (from ipython->jupyterlab) (0.1.3)\n",
      "Requirement already satisfied: pygments in /opt/homebrew/lib/python3.9/site-packages (from ipython->jupyterlab) (2.10.0)\n",
      "Requirement already satisfied: backcall in /opt/homebrew/lib/python3.9/site-packages (from ipython->jupyterlab) (0.2.0)\n",
      "Requirement already satisfied: pexpect>4.3 in /opt/homebrew/lib/python3.9/site-packages (from ipython->jupyterlab) (4.8.0)\n",
      "Requirement already satisfied: prompt-toolkit!=3.0.0,!=3.0.1,<3.1.0,>=2.0.0 in /opt/homebrew/lib/python3.9/site-packages (from ipython->jupyterlab) (3.0.23)\n",
      "Requirement already satisfied: decorator in /opt/homebrew/lib/python3.9/site-packages (from ipython->jupyterlab) (5.1.0)\n",
      "Requirement already satisfied: setuptools>=18.5 in /opt/homebrew/lib/python3.9/site-packages (from ipython->jupyterlab) (59.0.1)\n",
      "Requirement already satisfied: pickleshare in /opt/homebrew/lib/python3.9/site-packages (from ipython->jupyterlab) (0.7.5)\n",
      "Requirement already satisfied: jedi>=0.16 in /opt/homebrew/lib/python3.9/site-packages (from ipython->jupyterlab) (0.18.1)\n",
      "Requirement already satisfied: appnope in /opt/homebrew/lib/python3.9/site-packages (from ipython->jupyterlab) (0.1.2)\n",
      "Requirement already satisfied: pyparsing!=3.0.5,>=2.0.2 in /opt/homebrew/lib/python3.9/site-packages (from packaging->jupyterlab) (3.0.7)\n",
      "Requirement already satisfied: idna>=2.8 in /opt/homebrew/lib/python3.9/site-packages (from anyio<4,>=3.1.0->jupyter-server~=1.4->jupyterlab) (3.3)\n",
      "Requirement already satisfied: sniffio>=1.1 in /opt/homebrew/lib/python3.9/site-packages (from anyio<4,>=3.1.0->jupyter-server~=1.4->jupyterlab) (1.2.0)\n",
      "Requirement already satisfied: parso<0.9.0,>=0.8.0 in /opt/homebrew/lib/python3.9/site-packages (from jedi>=0.16->ipython->jupyterlab) (0.8.2)\n",
      "Requirement already satisfied: pyrsistent!=0.17.0,!=0.17.1,!=0.17.2,>=0.14.0 in /opt/homebrew/lib/python3.9/site-packages (from jsonschema>=3.0.1->jupyterlab-server~=2.3->jupyterlab) (0.18.1)\n",
      "Requirement already satisfied: attrs>=17.4.0 in /opt/homebrew/lib/python3.9/site-packages (from jsonschema>=3.0.1->jupyterlab-server~=2.3->jupyterlab) (21.4.0)\n",
      "Requirement already satisfied: python-dateutil>=2.1 in /opt/homebrew/lib/python3.9/site-packages (from jupyter-client>=6.1.1->jupyter-server~=1.4->jupyterlab) (2.8.2)\n",
      "Requirement already satisfied: nest-asyncio>=1.5 in /opt/homebrew/lib/python3.9/site-packages (from jupyter-client>=6.1.1->jupyter-server~=1.4->jupyterlab) (1.5.1)\n",
      "Requirement already satisfied: ipykernel in /opt/homebrew/lib/python3.9/site-packages (from notebook<7->nbclassic~=0.2->jupyterlab) (6.5.1)\n",
      "Requirement already satisfied: ptyprocess>=0.5 in /opt/homebrew/lib/python3.9/site-packages (from pexpect>4.3->ipython->jupyterlab) (0.7.0)\n",
      "Requirement already satisfied: wcwidth in /opt/homebrew/lib/python3.9/site-packages (from prompt-toolkit!=3.0.0,!=3.0.1,<3.1.0,>=2.0.0->ipython->jupyterlab) (0.2.5)\n",
      "Requirement already satisfied: argon2-cffi-bindings in /opt/homebrew/lib/python3.9/site-packages (from argon2-cffi->jupyter-server~=1.4->jupyterlab) (21.2.0)\n",
      "Requirement already satisfied: pytz>=2015.7 in /opt/homebrew/lib/python3.9/site-packages (from babel->jupyterlab-server~=2.3->jupyterlab) (2021.3)\n",
      "Requirement already satisfied: pandocfilters>=1.4.1 in /opt/homebrew/lib/python3.9/site-packages (from nbconvert->jupyter-server~=1.4->jupyterlab) (1.5.0)\n",
      "Requirement already satisfied: testpath in /opt/homebrew/lib/python3.9/site-packages (from nbconvert->jupyter-server~=1.4->jupyterlab) (0.5.0)\n",
      "Requirement already satisfied: nbclient<0.6.0,>=0.5.0 in /opt/homebrew/lib/python3.9/site-packages (from nbconvert->jupyter-server~=1.4->jupyterlab) (0.5.10)\n",
      "Requirement already satisfied: bleach in /opt/homebrew/lib/python3.9/site-packages (from nbconvert->jupyter-server~=1.4->jupyterlab) (4.1.0)\n",
      "Requirement already satisfied: defusedxml in /opt/homebrew/lib/python3.9/site-packages (from nbconvert->jupyter-server~=1.4->jupyterlab) (0.7.1)\n",
      "Requirement already satisfied: mistune<2,>=0.8.1 in /opt/homebrew/lib/python3.9/site-packages (from nbconvert->jupyter-server~=1.4->jupyterlab) (0.8.4)\n",
      "Requirement already satisfied: jupyterlab-pygments in /opt/homebrew/lib/python3.9/site-packages (from nbconvert->jupyter-server~=1.4->jupyterlab) (0.1.2)\n",
      "Requirement already satisfied: urllib3<1.27,>=1.21.1 in /opt/homebrew/lib/python3.9/site-packages (from requests->jupyterlab-server~=2.3->jupyterlab) (1.26.8)\n",
      "Requirement already satisfied: charset-normalizer~=2.0.0 in /opt/homebrew/lib/python3.9/site-packages (from requests->jupyterlab-server~=2.3->jupyterlab) (2.0.10)\n",
      "Requirement already satisfied: certifi>=2017.4.17 in /opt/homebrew/lib/python3.9/site-packages (from requests->jupyterlab-server~=2.3->jupyterlab) (2021.10.8)\n",
      "Requirement already satisfied: six>=1.5 in /opt/homebrew/lib/python3.9/site-packages (from python-dateutil>=2.1->jupyter-client>=6.1.1->jupyter-server~=1.4->jupyterlab) (1.16.0)\n",
      "Requirement already satisfied: cffi>=1.0.1 in /opt/homebrew/lib/python3.9/site-packages (from argon2-cffi-bindings->argon2-cffi->jupyter-server~=1.4->jupyterlab) (1.15.0)\n",
      "Requirement already satisfied: webencodings in /opt/homebrew/lib/python3.9/site-packages (from bleach->nbconvert->jupyter-server~=1.4->jupyterlab) (0.5.1)\n",
      "Requirement already satisfied: debugpy<2.0,>=1.0.0 in /opt/homebrew/lib/python3.9/site-packages (from ipykernel->notebook<7->nbclassic~=0.2->jupyterlab) (1.5.1)\n",
      "Requirement already satisfied: pycparser in /opt/homebrew/lib/python3.9/site-packages (from cffi>=1.0.1->argon2-cffi-bindings->argon2-cffi->jupyter-server~=1.4->jupyterlab) (2.21)\n",
      "\u001b[33mDEPRECATION: Configuring installation scheme with distutils config files is deprecated and will no longer work in the near future. If you are using a Homebrew or Linuxbrew Python, please see discussion at https://github.com/Homebrew/homebrew-core/issues/76621\u001b[0m\u001b[33m\n",
      "\u001b[0m"
     ]
    }
   ],
   "source": [
    "!pip3 install jupyterlab"
   ]
  },
  {
   "cell_type": "markdown",
   "id": "40872ecd-3e4c-418b-ac8d-1be288c75406",
   "metadata": {},
   "source": [
    "## Finished\n",
    "\n",
    "After following these steps, you should have operational versions of Jupyter Notebook and Jupyter Lab.  Use the command `jupyter notebook` to launch a Jupyter Notebook; use `jupyter lab` to open Jupyter Lab.\n",
    "\n",
    "### Next Steps\n",
    "- Mac and Linux: [Install the bash kernel](https://github.com/NephTek/Public_Notebooks/blob/main/mac_linux_bash_kernel_install.ipynb)"
   ]
  }
 ],
 "metadata": {
  "kernelspec": {
   "display_name": "Python 3 (ipykernel)",
   "language": "python",
   "name": "python3"
  },
  "language_info": {
   "codemirror_mode": {
    "name": "ipython",
    "version": 3
   },
   "file_extension": ".py",
   "mimetype": "text/x-python",
   "name": "python",
   "nbconvert_exporter": "python",
   "pygments_lexer": "ipython3",
   "version": "3.9.9"
  }
 },
 "nbformat": 4,
 "nbformat_minor": 5
}
