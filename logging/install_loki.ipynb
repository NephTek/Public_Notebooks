{
 "cells": [
  {
   "cell_type": "markdown",
   "id": "d40040bd-fa49-439b-bc0e-000b97fc19ff",
   "metadata": {},
   "source": [
    "# Loki\n",
    "Loki is a centralized logging collection and querying system.  It allows you to view logs across all components of a microservices application in a single location sorted by time, with a rich querying language to search and filter logs. \n",
    "\n",
    "Loki makes use of logging collectors to collect and aggregate logs.  Loki supports multiple logging collectors, including `promtail`, `fluent-bit`, `fluentd`, and `filebeats`, among others.  In our \n",
    "\n",
    "## Prequisites\n",
    "- [Learning Jupyter](https://github.com/NephTek/Public_Notebooks/blob/main/getting-started/learning_jupyter.ipynb)\n",
    "- Install Jupyter bash kernel:\n",
    "  - [Windows](https://github.com/NephTek/Public_Notebooks/blob/main/getting-started/windows/install_jupyter_bash_kernel.ipynb)\n",
    "  - [Mac](https://github.com/NephTek/Public_Notebooks/blob/main/getting-started/mac/install_jupyter_bash_kernel.ipynb)\n",
    "  - [Linux](https://github.com/NephTek/Public_Notebooks/blob/main/getting-started/linux/install_jupyter_bash_kernel.ipynb)\n",
    "- [Install Kubernetes](https://github.com/NephTek/Public_Notebooks/blob/main/kubernetes/install_k8s_cluster.ipynb)\n",
    "- [Install DNSmasq](https://github.com/NephTek/Public_Notebooks/blob/main/dnsmasq/install_dnsmasq.ipynb)\n",
    "- [Install cert-manager](https://github.com/NephTek/Public_Notebooks/blob/main/cert-manager/install_cert-manager.ipynb)\n",
    "- [Install Monitoring](https://github.com/NephTek/Public_Notebooks/blob/main/monitoring/install_kube-prometheus-stack.ipynb)\n",
    "\n",
    "## Installing Loki Helm Chart"
   ]
  },
  {
   "cell_type": "code",
   "execution_count": 3,
   "id": "25a5f302-7c34-46a0-80eb-dcf96a372f3f",
   "metadata": {},
   "outputs": [
    {
     "name": "stdout",
     "output_type": "stream",
     "text": [
      "\"loki\" already exists with the same configuration, skipping\n"
     ]
    }
   ],
   "source": [
    "helm repo add loki https://grafana.github.io/loki/charts"
   ]
  },
  {
   "cell_type": "code",
   "execution_count": 2,
   "id": "fcb6a621-16ad-4cff-8063-e16b6c689544",
   "metadata": {},
   "outputs": [
    {
     "name": "stdout",
     "output_type": "stream",
     "text": [
      "Hang tight while we grab the latest from your chart repositories...\n",
      "...Successfully got an update from the \"metallb\" chart repository\n",
      "...Successfully got an update from the \"falcosecurity\" chart repository\n",
      "...Successfully got an update from the \"oauth2-proxy\" chart repository\n",
      "...Successfully got an update from the \"kyverno\" chart repository\n",
      "...Successfully got an update from the \"sealed-secrets\" chart repository\n",
      "...Successfully got an update from the \"rstudio\" chart repository\n",
      "...Successfully got an update from the \"jetstack\" chart repository\n",
      "...Successfully got an update from the \"sentry\" chart repository\n",
      "...Successfully got an update from the \"loki\" chart repository\n",
      "...Successfully got an update from the \"linkerd\" chart repository\n",
      "...Successfully got an update from the \"sentinelone\" chart repository\n",
      "...Successfully got an update from the \"stackgres-charts\" chart repository\n",
      "...Successfully got an update from the \"ingress-nginx\" chart repository\n",
      "...Successfully got an update from the \"cilium\" chart repository\n",
      "...Successfully got an update from the \"k8ssandra\" chart repository\n",
      "...Successfully got an update from the \"grafana\" chart repository\n",
      "...Successfully got an update from the \"prometheus-community\" chart repository\n",
      "...Successfully got an update from the \"newrelic\" chart repository\n",
      "...Successfully got an update from the \"harbor\" chart repository\n",
      "...Successfully got an update from the \"k8s-at-home\" chart repository\n",
      "...Successfully got an update from the \"gitlab\" chart repository\n",
      "...Successfully got an update from the \"bitnami\" chart repository\n",
      "Update Complete. ⎈Happy Helming!⎈\n"
     ]
    }
   ],
   "source": [
    "helm repo update"
   ]
  },
  {
   "cell_type": "code",
   "execution_count": 2,
   "id": "fcc95aae-950c-4f00-8c30-cbf0b29f4b7f",
   "metadata": {},
   "outputs": [
    {
     "name": "stdout",
     "output_type": "stream",
     "text": [
      "Release \"loki\" does not exist. Installing it now.\n",
      "W0328 17:14:11.090897   28168 warnings.go:70] policy/v1beta1 PodSecurityPolicy is deprecated in v1.21+, unavailable in v1.25+\n",
      "W0328 17:14:11.134763   28168 warnings.go:70] policy/v1beta1 PodSecurityPolicy is deprecated in v1.21+, unavailable in v1.25+\n",
      "NAME: loki\n",
      "LAST DEPLOYED: Mon Mar 28 17:14:10 2022\n",
      "NAMESPACE: logging\n",
      "STATUS: deployed\n",
      "REVISION: 1\n",
      "TEST SUITE: None\n",
      "NOTES:\n",
      "Verify the application is working by running these commands:\n",
      "  kubectl --namespace logging port-forward service/loki 3100\n",
      "  curl http://127.0.0.1:3100/api/prom/label\n",
      "\u001b[?2004h"
     ]
    },
    {
     "ename": "",
     "evalue": "1",
     "output_type": "error",
     "traceback": []
    }
   ],
   "source": [
    "helm upgrade --install -n logging --create-namespace loki grafana/loki -f values.loki.yaml -f values.loki.nephtek.yaml --wait"
   ]
  },
  {
   "cell_type": "markdown",
   "id": "f637dfa4-2ff1-487c-8523-e0dfa725040b",
   "metadata": {},
   "source": [
    "## Installing promtail Helm Chart"
   ]
  },
  {
   "cell_type": "code",
   "execution_count": 1,
   "id": "3f325fb8-70a1-4218-aab8-d21521c7f31d",
   "metadata": {},
   "outputs": [
    {
     "name": "stdout",
     "output_type": "stream",
     "text": [
      "Release \"promtail\" does not exist. Installing it now.\n",
      "NAME: promtail\n",
      "LAST DEPLOYED: Mon Mar 28 17:13:48 2022\n",
      "NAMESPACE: logging\n",
      "STATUS: deployed\n",
      "REVISION: 1\n",
      "TEST SUITE: None\n",
      "NOTES:\n",
      "***********************************************************************\n",
      " Welcome to Grafana Promtail\n",
      " Chart version: 3.11.0\n",
      " Promtail version: 2.4.2\n",
      "***********************************************************************\n",
      "\n",
      "Verify the application is working by running these commands:\n",
      "\n",
      "* kubectl --namespace logging port-forward daemonset/promtail 3101\n",
      "* curl http://127.0.0.1:3101/metrics\n",
      "\u001b[?2004h"
     ]
    },
    {
     "ename": "",
     "evalue": "1",
     "output_type": "error",
     "traceback": []
    }
   ],
   "source": [
    "helm upgrade --install -n logging --create-namespace promtail grafana/promtail -f values.promtail.yaml --wait"
   ]
  },
  {
   "cell_type": "markdown",
   "id": "dee38f39-5f8f-4b14-8e29-61404adf5816",
   "metadata": {},
   "source": [
    "### Finished\n",
    "You now should have Loki installed and configured to collect logs from k8s.  You can view logs on the `Explore` tab in Grafana.  Be sure to select the data sourced naned `Loki`.\n",
    "\n",
    "### Next Steps\n",
    "- [Install Ingress Controller](https://github.com/NephTek/Public_Notebooks/blob/main/ingress/install_ingress-nginx.ipynb)"
   ]
  }
 ],
 "metadata": {
  "kernelspec": {
   "display_name": "Bash",
   "language": "bash",
   "name": "bash"
  },
  "language_info": {
   "codemirror_mode": "shell",
   "file_extension": ".sh",
   "mimetype": "text/x-sh",
   "name": "bash"
  }
 },
 "nbformat": 4,
 "nbformat_minor": 5
}
