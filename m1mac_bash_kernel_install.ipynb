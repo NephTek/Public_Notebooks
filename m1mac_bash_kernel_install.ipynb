{
 "cells": [
  {
   "cell_type": "markdown",
   "id": "8f5c1c31",
   "metadata": {},
   "source": [
    "## Installing the bash_kernel for Jupyter"
   ]
  },
  {
   "cell_type": "markdown",
   "id": "d9fee978",
   "metadata": {},
   "source": [
    "<br>\n",
    "This notebook utilizes the default python kernel to boostrap jupyter with the bash_kernel.\n",
    "\n",
    "From your Jupyter Notebook working directory"
   ]
  },
  {
   "cell_type": "code",
   "execution_count": 9,
   "id": "07afd645",
   "metadata": {},
   "outputs": [
    {
     "name": "stdout",
     "output_type": "stream",
     "text": [
      "Cloning into 'bash_kernel'...\n",
      "remote: Enumerating objects: 286, done.\u001b[K\n",
      "remote: Total 286 (delta 0), reused 0 (delta 0), pack-reused 286\u001b[K\n",
      "Receiving objects: 100% (286/286), 53.20 KiB | 346.00 KiB/s, done.\n",
      "Resolving deltas: 100% (134/134), done.\n"
     ]
    }
   ],
   "source": [
    "!git clone https://github.com/takluyver/bash_kernel.git"
   ]
  },
  {
   "cell_type": "code",
   "execution_count": 10,
   "id": "99d34274",
   "metadata": {},
   "outputs": [
    {
     "name": "stdout",
     "output_type": "stream",
     "text": [
      "\u001b[33mDEPRECATION: Configuring installation scheme with distutils config files is deprecated and will no longer work in the near future. If you are using a Homebrew or Linuxbrew Python, please see discussion at https://github.com/Homebrew/homebrew-core/issues/76621\u001b[0m\n",
      "Collecting bash_kernel\n",
      "  Using cached bash_kernel-0.7.2-py2.py3-none-any.whl (15 kB)\n",
      "Requirement already satisfied: pexpect>=4.0 in /opt/homebrew/lib/python3.9/site-packages (from bash_kernel) (4.8.0)\n",
      "Requirement already satisfied: ptyprocess>=0.5 in /opt/homebrew/lib/python3.9/site-packages (from pexpect>=4.0->bash_kernel) (0.7.0)\n",
      "Installing collected packages: bash-kernel\n",
      "\u001b[33mDEPRECATION: Configuring installation scheme with distutils config files is deprecated and will no longer work in the near future. If you are using a Homebrew or Linuxbrew Python, please see discussion at https://github.com/Homebrew/homebrew-core/issues/76621\u001b[0m\n",
      "Successfully installed bash-kernel-0.7.2\n"
     ]
    }
   ],
   "source": [
    "!pip3 install bash_kernel "
   ]
  },
  {
   "cell_type": "code",
   "execution_count": 11,
   "id": "61c8f16d",
   "metadata": {},
   "outputs": [
    {
     "name": "stdout",
     "output_type": "stream",
     "text": [
      "Installing IPython kernel spec\r\n"
     ]
    }
   ],
   "source": [
    "!python3 -m bash_kernel.install"
   ]
  },
  {
   "cell_type": "code",
   "execution_count": null,
   "id": "1fe3a34e",
   "metadata": {},
   "outputs": [],
   "source": [
    "rm -rf bash_kernel"
   ]
  }
 ],
 "metadata": {
  "kernelspec": {
   "display_name": "Python 3 (ipykernel)",
   "language": "python",
   "name": "python3"
  },
  "language_info": {
   "codemirror_mode": {
    "name": "ipython",
    "version": 3
   },
   "file_extension": ".py",
   "mimetype": "text/x-python",
   "name": "python",
   "nbconvert_exporter": "python",
   "pygments_lexer": "ipython3",
   "version": "3.9.9"
  }
 },
 "nbformat": 4,
 "nbformat_minor": 5
}
