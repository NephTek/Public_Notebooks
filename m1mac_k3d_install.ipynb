{
 "cells": [
  {
   "cell_type": "markdown",
   "id": "a08b7ee4",
   "metadata": {},
   "source": [
    "## Creating a K3d Cluster on an M1 Mac\n",
    "\n",
    "At this point in time, Macs with the M1 line of processors work best with *k3d*, which installs k3s inside of containers running in Docker.  \n",
    "\n",
    "This notebook will walk you through installing K3d onto your M1 Mac locally. This assumes you have already installed Docker Desktop for per our README.md and that Docker Desktop is running."
   ]
  },
  {
   "cell_type": "markdown",
   "id": "01a1646f",
   "metadata": {},
   "source": [
    "<div class=\"alert alert-block alert-info\">\n",
    "    <b>Note: </b> \n",
    "If you do not already have Homebrew for MacOS, install this first using the following link:\n",
    "https://brew.sh/\n",
    "</div>"
   ]
  },
  {
   "cell_type": "markdown",
   "id": "397ffc3c",
   "metadata": {},
   "source": [
    "## Install Kubectl (If you dont already have it):"
   ]
  },
  {
   "cell_type": "code",
   "execution_count": null,
   "id": "a75604ab",
   "metadata": {},
   "outputs": [],
   "source": [
    "brew install kubectl"
   ]
  },
  {
   "cell_type": "markdown",
   "id": "09c5447c",
   "metadata": {},
   "source": [
    "## Install k3d:"
   ]
  },
  {
   "cell_type": "code",
   "execution_count": 1,
   "id": "57abff88",
   "metadata": {},
   "outputs": [
    {
     "name": "stdout",
     "output_type": "stream",
     "text": [
      "\u001b[34m==>\u001b[0m \u001b[1mDownloading https://ghcr.io/v2/homebrew/core/k3d/manifests/5.2.2\u001b[0m\n",
      "######################################################################## 100.0%\n",
      "\u001b[34m==>\u001b[0m \u001b[1mDownloading https://ghcr.io/v2/homebrew/core/k3d/blobs/sha256:94ab53847ee937\u001b[0m\n",
      "\u001b[34m==>\u001b[0m \u001b[1mDownloading from https://pkg-containers.githubusercontent.com/ghcr1/blobs/sh\u001b[0m\n",
      "######################################################################## 100.0%\n",
      "\u001b[34m==>\u001b[0m \u001b[1mPouring k3d--5.2.2.arm64_big_sur.bottle.tar.gz\u001b[0m\n",
      "\u001b[34m==>\u001b[0m \u001b[1mCaveats\u001b[0m\n",
      "zsh completions have been installed to:\n",
      "  /opt/homebrew/share/zsh/site-functions\n",
      "\u001b[34m==>\u001b[0m \u001b[1mSummary\u001b[0m\n",
      "🍺  /opt/homebrew/Cellar/k3d/5.2.2: 9 files, 18.9MB\n",
      "\u001b[34m==>\u001b[0m \u001b[1mRunning `brew cleanup k3d`...\u001b[0m\n",
      "Disable this behaviour by setting HOMEBREW_NO_INSTALL_CLEANUP.\n",
      "Hide these hints with HOMEBREW_NO_ENV_HINTS (see `man brew`).\n"
     ]
    }
   ],
   "source": [
    "brew install k3d"
   ]
  },
  {
   "cell_type": "markdown",
   "id": "ed9e507c",
   "metadata": {},
   "source": [
    "### Ensure k3d was installed correctly with:"
   ]
  },
  {
   "cell_type": "code",
   "execution_count": 8,
   "id": "669b95cc",
   "metadata": {},
   "outputs": [
    {
     "name": "stdout",
     "output_type": "stream",
     "text": [
      "k3d\n"
     ]
    }
   ],
   "source": [
    "brew list | grep -i k3d"
   ]
  },
  {
   "cell_type": "code",
   "execution_count": 2,
   "id": "53eb6a1b",
   "metadata": {
    "scrolled": false
   },
   "outputs": [
    {
     "name": "stdout",
     "output_type": "stream",
     "text": [
      "NAME   SERVERS   AGENTS   LOADBALANCER\n"
     ]
    }
   ],
   "source": [
    "k3d cluster list"
   ]
  },
  {
   "cell_type": "markdown",
   "id": "e6fff7fc",
   "metadata": {},
   "source": [
    "The following command creates a cluster named *test*.  It then maps localhost ports 8081 and 8443 to the cluster's LoadBalancer service on ports 80 and 443, where Traefik is running as an ingress controller.  It creates a cluster with 1 control-plane node and 2 worker/agent nodes, exposing the control plane using an API server running on port 6550:"
   ]
  },
  {
   "cell_type": "code",
   "execution_count": 4,
   "id": "9c2aad55",
   "metadata": {
    "scrolled": true
   },
   "outputs": [
    {
     "name": "stdout",
     "output_type": "stream",
     "text": [
      "\u001b[36mINFO\u001b[0m[0000] portmapping '8443:443' targets the loadbalancer: defaulting to [servers:*:proxy agents:*:proxy] \n",
      "\u001b[36mINFO\u001b[0m[0000] portmapping '8081:80' targets the loadbalancer: defaulting to [servers:*:proxy agents:*:proxy] \n",
      "\u001b[36mINFO\u001b[0m[0000] Prep: Network                                \n",
      "\u001b[36mINFO\u001b[0m[0000] Created network 'k3d-test'                   \n",
      "\u001b[36mINFO\u001b[0m[0000] Created volume 'k3d-test-images'             \n",
      "\u001b[36mINFO\u001b[0m[0000] Starting new tools node...                   \n",
      "\u001b[36mINFO\u001b[0m[0000] Starting Node 'k3d-test-tools'               \n",
      "\u001b[36mINFO\u001b[0m[0001] Creating node 'k3d-test-server-0'            \n",
      "\u001b[36mINFO\u001b[0m[0001] Creating node 'k3d-test-agent-0'             \n",
      "\u001b[36mINFO\u001b[0m[0001] Creating node 'k3d-test-agent-1'             \n",
      "\u001b[36mINFO\u001b[0m[0001] Creating LoadBalancer 'k3d-test-serverlb'    \n",
      "\u001b[36mINFO\u001b[0m[0001] Using the k3d-tools node to gather environment information \n",
      "\u001b[36mINFO\u001b[0m[0002] Starting cluster 'test'                      \n",
      "\u001b[36mINFO\u001b[0m[0002] Starting servers...                          \n",
      "\u001b[36mINFO\u001b[0m[0002] Starting Node 'k3d-test-server-0'            \n",
      "\u001b[36mINFO\u001b[0m[0006] Starting agents...                           \n",
      "\u001b[36mINFO\u001b[0m[0006] Starting Node 'k3d-test-agent-1'             \n",
      "\u001b[36mINFO\u001b[0m[0007] Starting Node 'k3d-test-agent-0'             \n",
      "\u001b[36mINFO\u001b[0m[0019] Starting helpers...                          \n",
      "\u001b[36mINFO\u001b[0m[0019] Starting Node 'k3d-test-serverlb'            \n",
      "\u001b[36mINFO\u001b[0m[0026] Injecting '192.168.65.2 host.k3d.internal' into /etc/hosts of all nodes... \n",
      "\u001b[36mINFO\u001b[0m[0026] Injecting records for host.k3d.internal and for 4 network members into CoreDNS configmap... \n",
      "\u001b[36mINFO\u001b[0m[0027] Cluster 'test' created successfully!         \n",
      "\u001b[36mINFO\u001b[0m[0027] You can now use it like this:                \n",
      "kubectl cluster-info\n"
     ]
    }
   ],
   "source": [
    "k3d cluster create --api-port 6550 -p \"8081:80@loadbalancer\" -p \"8443:443@loadbalancer\" --agents 2 test"
   ]
  },
  {
   "cell_type": "code",
   "execution_count": 5,
   "id": "7d0369a7",
   "metadata": {},
   "outputs": [
    {
     "name": "stdout",
     "output_type": "stream",
     "text": [
      "NAME                STATUS   ROLES                  AGE   VERSION\n",
      "k3d-test-agent-1    Ready    <none>                 22s   v1.21.7+k3s1\n",
      "k3d-test-agent-0    Ready    <none>                 22s   v1.21.7+k3s1\n",
      "k3d-test-server-0   Ready    control-plane,master   31s   v1.21.7+k3s1\n"
     ]
    }
   ],
   "source": [
    "kubectl get nodes"
   ]
  },
  {
   "cell_type": "code",
   "execution_count": 6,
   "id": "35d32dea",
   "metadata": {},
   "outputs": [
    {
     "name": "stdout",
     "output_type": "stream",
     "text": [
      "NAMESPACE     NAME                                      READY   STATUS              RESTARTS   AGE\n",
      "kube-system   local-path-provisioner-5ff76fc89d-rdhhg   1/1     Running             0          30s\n",
      "kube-system   metrics-server-86cbb8457f-f9sbq           1/1     Running             0          30s\n",
      "kube-system   coredns-7448499f4d-9fwq4                  1/1     Running             0          30s\n",
      "kube-system   helm-install-traefik-crd-98st8            0/1     Completed           0          31s\n",
      "kube-system   traefik-6b84f7cbc-mznc4                   0/1     ContainerCreating   0          3s\n",
      "kube-system   svclb-traefik-mm4qb                       0/2     ContainerCreating   0          3s\n",
      "kube-system   svclb-traefik-v84tv                       0/2     ContainerCreating   0          3s\n",
      "kube-system   svclb-traefik-kxl6r                       0/2     ContainerCreating   0          3s\n",
      "kube-system   helm-install-traefik-cs2bw                0/1     Completed           2          31s\n"
     ]
    }
   ],
   "source": [
    "kubectl get pods -A"
   ]
  }
 ],
 "metadata": {
  "kernelspec": {
   "display_name": "Bash",
   "language": "bash",
   "name": "bash"
  },
  "language_info": {
   "codemirror_mode": "shell",
   "file_extension": ".sh",
   "mimetype": "text/x-sh",
   "name": "bash"
  }
 },
 "nbformat": 4,
 "nbformat_minor": 5
}
