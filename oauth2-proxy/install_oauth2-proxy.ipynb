{
 "cells": [
  {
   "cell_type": "markdown",
   "id": "19b6e3d4-2cde-4487-b078-4c8a3fc6744b",
   "metadata": {},
   "source": [
    "# Installing oauth2-proxy\n",
    "\n",
    "Oauth2-proxy provides OAuth 2.0 authentication as a proxy for other applications. \n",
    "\n",
    "## Prerequisites\n",
    "- [Learning Jupyter](../getting-started/learning_jupyter.ipynb)\n",
    "- Install Jupyter bash kernel:\n",
    "  - Windows... coming soon!\n",
    "  - [Mac](../getting-started/mac/install_jupyter_bash_kernel.ipynb)\n",
    "  - [Linux](../getting-started/linux/install_jupyter_bash_kernel.ipynb)\n",
    "- [Install Kubernetes](../kubernetes/install_k8s_cluster.ipynb)\n",
    "- Configure DNS\n",
    "  - Mac: [Install DNSmasq](../dnsmasq/mac/install_dnsmasq.ipynb)\n",
    "  - Linux: [Install DNSmasq](../../dnsmasq/linux/install_dnsmasq.ipynb)\n",
    "  - Windows: Install Acrylic... coming soon!\n",
    "- [Install Monitoring](../monitoring/install_kube-prometheus-stack.ipynb)\n",
    "- [Install Logging](../logging/install_loki.ipynb)\n",
    "- [Install cert-manager](../cert-manager/install_cert-manager.ipynb)\n",
    "- [Install Ingress Controller](../ingress/install_ingress-nginx.ipynb)\n",
    "- [Install Postgres](../postgres/install_postgres.ipynb)\n",
    "- [Install OpenLDAP](../openldap/install_openldap.ipynb)\n",
    "- [Install Keycloak](../keycloak/install_keycloak.ipynb)"
   ]
  },
  {
   "cell_type": "markdown",
   "id": "ac222699-87ed-4bac-a6b9-f5253d23424c",
   "metadata": {},
   "source": [
    "### Add the oauth2-proxy Helm repository\n",
    "\n",
    "We begin by adding the helm repository that contains the oauth2-proxy helm chart.  We'll use this chart below to install oauth2-proxy."
   ]
  },
  {
   "cell_type": "code",
   "execution_count": 1,
   "id": "3739126e-1ecd-4788-b0e6-be51e449df22",
   "metadata": {},
   "outputs": [
    {
     "name": "stdout",
     "output_type": "stream",
     "text": [
      "\"oauth2-proxy\" already exists with the same configuration, skipping\n"
     ]
    }
   ],
   "source": [
    "helm repo add oauth2-proxy https://oauth2-proxy.github.io/manifests"
   ]
  },
  {
   "cell_type": "markdown",
   "id": "4b7ede86-436f-4215-be47-8e34e2e98463",
   "metadata": {},
   "source": [
    "### Install oauth2-proxy\n",
    "\n",
    "Next we install the oauth2-proxy application using helm.  We'll use a helm values file that is configured to the Keycload realm `ldap-realm`.  It uses the Keycloak client `oauth2-proxy` by configurig the clientID and clientSecret with values used in Keycloak.  It exposes the login & token refresh OAuth 2.0 endpoints using an Ingress object at the URL, `oauth2.k8s.nephtek.com`.  We'll use this endpoint as the login redirect URL for Prometheus and Alertmanager by adding annotations to the Ingress objects for Prometheus & Alertmanager.  \n",
    "\n",
    "The ingress object for the proxy also could be set to a subpath of an existing URL.  With this approach, the oauth2-proxy would have an ingress object for each application that it provided access to, with the URL set to a subpath of the application's URL instead of at `oauth2.k8s.nephtek.com`."
   ]
  },
  {
   "cell_type": "code",
   "execution_count": 2,
   "id": "b33e31d3-f09a-4f3f-b6cb-a5eddfc59b64",
   "metadata": {},
   "outputs": [
    {
     "name": "stdout",
     "output_type": "stream",
     "text": [
      "Release \"oauth2-proxy\" does not exist. Installing it now.\n",
      "NAME: oauth2-proxy\n",
      "LAST DEPLOYED: Sun Oct  2 14:08:29 2022\n",
      "NAMESPACE: oauth2-proxy\n",
      "STATUS: deployed\n",
      "REVISION: 1\n",
      "TEST SUITE: None\n",
      "NOTES:\n",
      "To verify that oauth2-proxy has started, run:\n",
      "\n",
      "  kubectl --namespace=oauth2-proxy get pods -l \"app=oauth2-proxy\"\n"
     ]
    }
   ],
   "source": [
    "helm upgrade --install oauth2-proxy oauth2-proxy/oauth2-proxy -n=oauth2-proxy --create-namespace -f values.rancher-desktop.yaml"
   ]
  },
  {
   "cell_type": "markdown",
   "id": "a72d5577-ae31-40e9-b338-65513391abba",
   "metadata": {},
   "source": [
    "### Modify Ingress objects to use oauth2-proxy\n",
    "\n",
    "We'll use kustomize to modify the ingress objects for Prometheus and Alertmanager to make use of oauth2-proxy. "
   ]
  },
  {
   "cell_type": "code",
   "execution_count": 3,
   "id": "999c197d-5a08-4ce6-ab84-bf46d34d7dee",
   "metadata": {},
   "outputs": [
    {
     "name": "stdout",
     "output_type": "stream",
     "text": [
      "ingress.networking.k8s.io/alertmanager-oauth2 created\n",
      "ingress.networking.k8s.io/prometheus-oauth2 created\n"
     ]
    }
   ],
   "source": [
    "kubectl apply -k kustomize/overlays/rancher-desktop"
   ]
  },
  {
   "cell_type": "markdown",
   "id": "067ca477-b1fa-4f71-b37c-f62b44eb961a",
   "metadata": {},
   "source": [
    "### Finished\n",
    "We've transparently added authentication to Prometheus and Alertmanager, neither of which support authentication natively, all by adding simple annotations to their Ingress objects.\n",
    "\n",
    "### Next Steps\n",
    "- [Install kube-oidc-proxy](../kube-oidc-proxy/install_kube-oidc-proxy.ipynb)"
   ]
  },
  {
   "cell_type": "code",
   "execution_count": null,
   "id": "eab3ce78-1178-472e-9fb4-aa2778015b26",
   "metadata": {},
   "outputs": [],
   "source": []
  }
 ],
 "metadata": {
  "kernelspec": {
   "display_name": "Bash",
   "language": "bash",
   "name": "bash"
  },
  "language_info": {
   "codemirror_mode": "shell",
   "file_extension": ".sh",
   "mimetype": "text/x-sh",
   "name": "bash"
  }
 },
 "nbformat": 4,
 "nbformat_minor": 5
}
