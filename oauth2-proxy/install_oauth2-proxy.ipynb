{
 "cells": [
  {
   "cell_type": "markdown",
   "id": "91f24fa9-0c95-46fd-aa21-a817f9843560",
   "metadata": {},
   "source": [
    "# Installing oauth2_proxy\n",
    "\n",
    "The oauth2-proxy project creates a proxy that provides OAauth 2.0/OIDC authentication to arbitrary applications.\n",
    "\n",
    "## Prerequisiites\n",
    "- [Learning Jupyter](../getting-started/learning_jupyter.ipynb)\n",
    "- Install Jupyter bash kernel:\n",
    "  - Windows... coming soon!\n",
    "  - [Mac](../getting-started/mac/install_jupyter_bash_kernel.ipynb)\n",
    "  - [Linux](../getting-started/linux/install_jupyter_bash_kernel.ipynb)\n",
    "- [Install Kubernetes](../kubernetes/install_k8s_cluster.ipynb)\n",
    "- Configure DNS\n",
    "  - Mac: [Install DNSmasq](../dnsmasq/mac/install_dnsmasq.ipynb)\n",
    "  - Linux: Install DNSmasmq... coming soon!\n",
    "  - Windows: Install Acrylic... coming soon!\n",
    "- [Install Monitoring](../monitoring/install_kube-prometheus-stack.ipynb)\n",
    "- [Install Logging](../logging/install_loki.ipynb)\n",
    "- [Install cert-manager](../cert-manager/install_cert-manager.ipynb)\n",
    "- [Install Ingress Controller](../ingress/install_ingress-nginx.ipynb)\n",
    "- [Install Postgres](../postgres/install_postgres.ipynb)\n",
    "- [Install OpenLDAP](../openldap/install_openldap.ipynb)\n",
    "- [Install Keycloak](../keycloak/install_keycloak.ipynb)"
   ]
  },
  {
   "cell_type": "markdown",
   "id": "6cfe16a3-965b-4845-8c5b-9142ec465922",
   "metadata": {},
   "source": [
    "### Finished\n",
    "\n",
    "### Next Steps\n",
    "- [Install kube-oidc-proxy](../kube-oidc-proxy/install_kube-oidc-proxy.ipynb)"
   ]
  }
 ],
 "metadata": {
  "kernelspec": {
   "display_name": "Bash",
   "language": "bash",
   "name": "bash"
  },
  "language_info": {
   "codemirror_mode": "shell",
   "file_extension": ".sh",
   "mimetype": "text/x-sh",
   "name": "bash"
  }
 },
 "nbformat": 4,
 "nbformat_minor": 5
}
