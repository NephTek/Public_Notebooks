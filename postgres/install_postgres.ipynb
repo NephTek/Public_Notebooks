{
 "cells": [
  {
   "cell_type": "markdown",
   "id": "e908ef29-450e-4318-9c0e-3efa2e2ad0b7",
   "metadata": {
    "tags": []
   },
   "source": [
    "# Installing Postgres\n",
    "There are multiple ways to install Postgres databases within Kubernetes, including Helm charts ([Bitnami HA](https://github.com/bitnami/charts/tree/master/bitnami/postgresql-ha) and [Bitnami single instance](https://github.com/bitnami/charts/tree/master/bitnami/postgresql)), standard Kubernetes manifests ([stolon](https://github.com/sorintlab/stolon/tree/master/examples/kubernetes)), Kustomize ([lodran](https://framagit.org/lordran/kustomize/postgresql)), and Kubernetes operators with Custom Resource Definitoins ([Zalando](https://github.com/zalando/postgres-operator), [CrunchyData](https://github.com/CrunchyData/postgres-operator), [StackGres](https://stackgres.io/doc/latest/install/helm/), and [KubeDB](https://kubedb.com/docs/0.12.0/setup/install/)). \n",
    "\n",
    "Our primary goals from our Postgres installation:\n",
    "1. A functional and lightweight Postgres configuration for local development\n",
    "2. A production-grade, highly available, backed-up, and replicated Postgres configuration for production\n",
    "3. Functional and predictable behavior in error scenarios, including full loss of data volumes, full simultaneous loss of all HA nodes, and both unexpected and scheduled cluster termination/downtime.\n",
    "\n",
    "The Zalando operator meets all of these criteria:\n",
    "1. Simple single-instance Postgres with lightweight compute, storage, and memory requirements.\n",
    "2. HA configurations with load balancing, connection pooling, rolling updates, backkups to S3, replication, and supporting \n",
    "3. Active development, with perhaps the largest number of users of any of the operators, and a welcoming and supported open-source community.\n",
    "\n",
    "## Prerequisites\n",
    "- [Learning Jupyter](https://github.com/NephTek/Public_Notebooks/blob/main/getting-started/learning_jupyter.ipynb)\n",
    "- Install Jupyter bash kernel:\n",
    "  - [Windows](https://github.com/NephTek/Public_Notebooks/blob/main/getting-started/windows/install_jupyter_bash_kernel.ipynb)\n",
    "  - [Mac](https://github.com/NephTek/Public_Notebooks/blob/main/getting-started/mac/install_jupyter_bash_kernel.ipynb)\n",
    "  - [Linux](https://github.com/NephTek/Public_Notebooks/blob/main/getting-started/linux/install_jupyter_bash_kernel.ipynb)\n",
    "- [Install Kubernetes](https://github.com/NephTek/Public_Notebooks/blob/main/kubernetes/install_k8s_cluster.ipynb)\n",
    "- [Install DNSmasq](https://github.com/NephTek/Public_Notebooks/blob/main/dnsmasq/install_dnsmasq.ipynb)\n",
    "- [Install cert-manager](https://github.com/NephTek/Public_Notebooks/blob/main/cert-manager/install_cert-manager.ipynb)\n",
    "- [Install Monitoring](https://github.com/NephTek/Public_Notebooks/blob/main/monitoring/install_kube-prometheus-stack.ipynb)\n",
    "- [Install Logging](https://github.com/NephTek/Public_Notebooks/blob/main/logging/install_loki.ipynb)\n",
    "- [Install Ingress](https://github.com/NephTek/Public_Notebooks/blob/main/ingress/install_ingress-nginx.ipynb)\n",
    "\n",
    "\n",
    "## Installing the Zalando Operator\n",
    "We will will install the Zalando operator and UI using Helm charts, then create our first database using the Zalando CRDs.  To start, we must first pull down the Zalando postgres-operator project using 'git':"
   ]
  },
  {
   "cell_type": "markdown",
   "id": "490830b9",
   "metadata": {},
   "source": [
    "### Install Postgres Operator"
   ]
  },
  {
   "cell_type": "code",
   "execution_count": 1,
   "id": "16f53b4f-7ea9-4eba-9e44-d5d0a67921ed",
   "metadata": {},
   "outputs": [
    {
     "name": "stdout",
     "output_type": "stream",
     "text": [
      "Cloning into 'postgres-operator'...\n",
      "remote: Enumerating objects: 23506, done.\u001b[K\n",
      "remote: Counting objects: 100% (625/625), done.\u001b[K\n",
      "remote: Compressing objects: 100% (385/385), done.\u001b[K\n",
      "remote: Total 23506 (delta 404), reused 396 (delta 216), pack-reused 22881\u001b[K\n",
      "Receiving objects: 100% (23506/23506), 8.89 MiB | 2.51 MiB/s, done.\n",
      "Resolving deltas: 100% (16816/16816), done.\n"
     ]
    }
   ],
   "source": [
    "git clone https://github.com/zalando/postgres-operator.git"
   ]
  },
  {
   "cell_type": "code",
   "execution_count": 1,
   "id": "4bd5c508-fb74-45cb-bedb-b3eaf7006882",
   "metadata": {},
   "outputs": [
    {
     "name": "stdout",
     "output_type": "stream",
     "text": [
      "manifest_sorter.go:192: info: skipping unknown hook: \"crd-install\"\n",
      "manifest_sorter.go:192: info: skipping unknown hook: \"crd-install\"\n",
      "manifest_sorter.go:192: info: skipping unknown hook: \"crd-install\"\n",
      "NAME: postgres-operator\n",
      "LAST DEPLOYED: Mon Mar 28 17:23:46 2022\n",
      "NAMESPACE: zalando\n",
      "STATUS: deployed\n",
      "REVISION: 1\n",
      "TEST SUITE: None\n",
      "NOTES:\n",
      "To verify that postgres-operator has started, run:\n",
      "\n",
      "  kubectl --namespace=zalando get pods -l \"app.kubernetes.io/name=postgres-operator\"\n",
      "\u001b[?2004h"
     ]
    },
    {
     "ename": "",
     "evalue": "1",
     "output_type": "error",
     "traceback": []
    }
   ],
   "source": [
    "helm install postgres-operator postgres-operator/charts/postgres-operator -n postgres --create-namespace"
   ]
  },
  {
   "cell_type": "markdown",
   "id": "082fabe9",
   "metadata": {},
   "source": [
    "<div class=\"alert alert-block alert-warning\"><b>Let this pod finish creating before proceeding. You can check with the following.</b> </div>"
   ]
  },
  {
   "cell_type": "code",
   "execution_count": 10,
   "id": "52688fdf",
   "metadata": {},
   "outputs": [
    {
     "name": "stdout",
     "output_type": "stream",
     "text": [
      "NAME                                    READY   STATUS    RESTARTS   AGE\n",
      "postgres-operator-74c8dbb8c6-cqh6h      1/1     Running   0          18m\n",
      "nginx-85b98978db-jp98q                  1/1     Running   0          11m\n",
      "postgres-operator-ui-54bd5d45f4-zdhl7   1/1     Running   0          8m27s\n"
     ]
    }
   ],
   "source": [
    "kubectl get pods -n zalando"
   ]
  },
  {
   "cell_type": "markdown",
   "id": "2bc867f5",
   "metadata": {
    "tags": []
   },
   "source": [
    "### Install Postgres Operator UI"
   ]
  },
  {
   "cell_type": "code",
   "execution_count": 3,
   "id": "b2e67421-20c2-4560-9fe8-8d31517596be",
   "metadata": {
    "scrolled": true
   },
   "outputs": [
    {
     "name": "stdout",
     "output_type": "stream",
     "text": [
      "Release \"postgres-operator-ui\" does not exist. Installing it now.\n",
      "NAME: postgres-operator-ui\n",
      "LAST DEPLOYED: Mon Mar 28 17:24:58 2022\n",
      "NAMESPACE: zalando\n",
      "STATUS: deployed\n",
      "REVISION: 1\n",
      "TEST SUITE: None\n",
      "NOTES:\n",
      "To verify that postgres-operator has started, run:\n",
      "\n",
      "  kubectl --namespace=zalando get pods -l \"app.kubernetes.io/name=postgres-operator-ui\"\n",
      "\u001b[?2004h"
     ]
    },
    {
     "ename": "",
     "evalue": "1",
     "output_type": "error",
     "traceback": []
    }
   ],
   "source": [
    "helm upgrade --install postgres-operator-ui postgres-operator/charts/postgres-operator-ui -f values.postgres-operator-ui.rancher-desktop.yaml -n postgres"
   ]
  },
  {
   "cell_type": "markdown",
   "id": "8bbac47e",
   "metadata": {},
   "source": [
    "<div class=\"alert alert-block alert-warning\"><b>Let this pod finish creating before proceeding. You can check with the following.</b></div>"
   ]
  },
  {
   "cell_type": "code",
   "execution_count": 11,
   "id": "979bd268-97e7-4b90-bc83-b29ca1a5185d",
   "metadata": {},
   "outputs": [
    {
     "name": "stdout",
     "output_type": "stream",
     "text": [
      "NAME                                    READY   STATUS    RESTARTS   AGE\n",
      "postgres-operator-74c8dbb8c6-cqh6h      1/1     Running   0          19m\n",
      "nginx-85b98978db-jp98q                  1/1     Running   0          12m\n",
      "postgres-operator-ui-54bd5d45f4-zdhl7   1/1     Running   0          9m3s\n"
     ]
    }
   ],
   "source": [
    "kubectl get pods -n postgres"
   ]
  },
  {
   "cell_type": "markdown",
   "id": "04abd31d",
   "metadata": {},
   "source": [
    "### Setup Test Postgres Instance via the Postgres Operator UI"
   ]
  },
  {
   "cell_type": "markdown",
   "id": "38dbdf68-7186-4a78-abeb-c0341b81baf5",
   "metadata": {},
   "source": [
    "Now we can visit [http://postgres-ui.k8s.example.com](http://postgres-ui.k8s.example.com) to see the GUI for the operator.  You can create a test cluster to validate that the GUI works.  Name the cluster \"test\" and press the green button labeled \"Create cluster\".\n"
   ]
  },
  {
   "cell_type": "markdown",
   "id": "34b254fa",
   "metadata": {},
   "source": [
    "![Postgres UI Example](images/pguiexample.png)"
   ]
  },
  {
   "cell_type": "markdown",
   "id": "1fa4903e",
   "metadata": {},
   "source": [
    "### Setup Test Postgres Instance via the CRD"
   ]
  },
  {
   "cell_type": "markdown",
   "id": "b92d7fe6",
   "metadata": {},
   "source": [
    "Alternatively, you can create a Custom Resource using the Zalando 'postgresqls' CRD:"
   ]
  },
  {
   "cell_type": "code",
   "execution_count": 7,
   "id": "a68574e4-b955-4ae4-9e16-b4854bc64460",
   "metadata": {},
   "outputs": [
    {
     "name": "stdout",
     "output_type": "stream",
     "text": [
      "postgresql.acid.zalan.do/acid-test2 created\n"
     ]
    }
   ],
   "source": [
    "kubectl create -f test-postgres.yaml"
   ]
  },
  {
   "cell_type": "markdown",
   "id": "fbf8fa06",
   "metadata": {},
   "source": [
    "<div class=\"alert alert-block alert-warning\"><b>Let this pod finish creating before proceeding. You can check with the following.</b></div>"
   ]
  },
  {
   "cell_type": "code",
   "execution_count": 8,
   "id": "e4a006f4-9019-40fd-985d-202e8ae8faee",
   "metadata": {
    "scrolled": true
   },
   "outputs": [
    {
     "name": "stdout",
     "output_type": "stream",
     "text": [
      "NAME           READY   STATUS              RESTARTS   AGE\n",
      "acid-test2-0   0/1     ContainerCreating   0          3s\n"
     ]
    }
   ],
   "source": [
    "kubectl get pods -n default"
   ]
  },
  {
   "cell_type": "markdown",
   "id": "1e027069-fbf1-4f47-8461-de99f9b9c96e",
   "metadata": {},
   "source": [
    "Now that we have verified the Postgres Operator UI and the functionality of the Custom Resource Definition, we will cleanup our PostgreSQL instances by deleting the Custom Resource instances."
   ]
  },
  {
   "cell_type": "markdown",
   "id": "6536969d",
   "metadata": {},
   "source": [
    "### Clean up"
   ]
  },
  {
   "cell_type": "code",
   "execution_count": null,
   "id": "2f236f95-93ff-49be-96dd-9fe2208eda0b",
   "metadata": {},
   "outputs": [
    {
     "name": "stdout",
     "output_type": "stream",
     "text": [
      "postgresql.acid.zalan.do \"acid-test\" deleted\n",
      "postgresql.acid.zalan.do \"acid-test2\" deleted\n"
     ]
    }
   ],
   "source": [
    "kubectl delete postgresqls acid-test acid-test2 -n default"
   ]
  },
  {
   "cell_type": "markdown",
   "id": "7c7e6de7-19ac-4356-932d-540c09a3c253",
   "metadata": {},
   "source": [
    "### Finished\n",
    "\n",
    "### Next Steps\n",
    "- [Install OpenLDAP](https://github.com/NephTek/Public_Notebooks/blob/main/openldap/install_openldap.ipynb)"
   ]
  }
 ],
 "metadata": {
  "kernelspec": {
   "display_name": "Bash",
   "language": "bash",
   "name": "bash"
  },
  "language_info": {
   "codemirror_mode": "shell",
   "file_extension": ".sh",
   "mimetype": "text/x-sh",
   "name": "bash"
  }
 },
 "nbformat": 4,
 "nbformat_minor": 5
}
