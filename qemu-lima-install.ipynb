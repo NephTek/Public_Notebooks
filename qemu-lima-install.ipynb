{
 "cells": [
  {
   "cell_type": "markdown",
   "id": "150e64ea",
   "metadata": {},
   "source": [
    "## Installing QEMU and Lima "
   ]
  },
  {
   "cell_type": "markdown",
   "id": "793b157c",
   "metadata": {},
   "source": [
    "This Notebook is to assist with installing QEMU and Lima to allow you to run nerdctl on an M1 Mac."
   ]
  },
  {
   "cell_type": "markdown",
   "id": "37520321",
   "metadata": {},
   "source": [
    "### Update Homebrew formulae"
   ]
  },
  {
   "cell_type": "code",
   "execution_count": 1,
   "id": "0798f417",
   "metadata": {},
   "outputs": [
    {
     "name": "stdout",
     "output_type": "stream",
     "text": [
      "Already up-to-date.\n"
     ]
    }
   ],
   "source": [
    "brew update"
   ]
  },
  {
   "cell_type": "markdown",
   "id": "ca916341",
   "metadata": {},
   "source": [
    "### Install QEMU"
   ]
  },
  {
   "cell_type": "code",
   "execution_count": null,
   "id": "418b24e0",
   "metadata": {},
   "outputs": [],
   "source": [
    "brew install qemu"
   ]
  },
  {
   "cell_type": "markdown",
   "id": "15c52df0",
   "metadata": {},
   "source": [
    "### Check version"
   ]
  },
  {
   "cell_type": "code",
   "execution_count": 2,
   "id": "0f2fa245",
   "metadata": {},
   "outputs": [
    {
     "name": "stdout",
     "output_type": "stream",
     "text": [
      "/opt/homebrew/bin/qemu-system-aarch64\n"
     ]
    }
   ],
   "source": [
    "which qemu-system-aarch64"
   ]
  },
  {
   "cell_type": "code",
   "execution_count": 3,
   "id": "89d6e742",
   "metadata": {},
   "outputs": [
    {
     "name": "stdout",
     "output_type": "stream",
     "text": [
      "QEMU emulator version 6.2.0\n",
      "Copyright (c) 2003-2021 Fabrice Bellard and the QEMU Project developers\n"
     ]
    }
   ],
   "source": [
    "qemu-system-aarch64 --version"
   ]
  },
  {
   "cell_type": "markdown",
   "id": "511e07c5",
   "metadata": {},
   "source": [
    "### Check if its valid"
   ]
  },
  {
   "cell_type": "code",
   "execution_count": 4,
   "id": "ed0a3717",
   "metadata": {},
   "outputs": [
    {
     "name": "stdout",
     "output_type": "stream",
     "text": [
      "Accelerators supported in QEMU binary:\n",
      "hvf\n",
      "tcg\n"
     ]
    }
   ],
   "source": [
    "qemu-system-aarch64 -accel help"
   ]
  },
  {
   "cell_type": "markdown",
   "id": "d3f4cfe4",
   "metadata": {},
   "source": [
    "### Install Lima"
   ]
  },
  {
   "cell_type": "code",
   "execution_count": null,
   "id": "6c0e4dbb",
   "metadata": {},
   "outputs": [],
   "source": [
    "brew install lima"
   ]
  },
  {
   "cell_type": "markdown",
   "id": "2143ba95",
   "metadata": {},
   "source": [
    "### Check version"
   ]
  },
  {
   "cell_type": "code",
   "execution_count": 5,
   "id": "e178b94f",
   "metadata": {},
   "outputs": [
    {
     "name": "stdout",
     "output_type": "stream",
     "text": [
      "/opt/homebrew/bin/limactl\n"
     ]
    }
   ],
   "source": [
    "which limactl"
   ]
  },
  {
   "cell_type": "code",
   "execution_count": 6,
   "id": "5331d194",
   "metadata": {},
   "outputs": [
    {
     "name": "stdout",
     "output_type": "stream",
     "text": [
      "limactl version 0.8.2\n"
     ]
    }
   ],
   "source": [
    "limactl --version"
   ]
  },
  {
   "cell_type": "markdown",
   "id": "e4bd78bb",
   "metadata": {},
   "source": [
    "### Test limactl"
   ]
  },
  {
   "cell_type": "code",
   "execution_count": 7,
   "id": "6de351ce",
   "metadata": {},
   "outputs": [
    {
     "name": "stdout",
     "output_type": "stream",
     "text": [
      "\u001b[33mWARN\u001b[0m[0000] No instance found. Run `limactl start` to create an instance. \n",
      "NAME    STATUS    SSH    ARCH    CPUS    MEMORY    DISK    DIR\n"
     ]
    }
   ],
   "source": [
    "limactl list"
   ]
  },
  {
   "cell_type": "markdown",
   "id": "b4731cc1",
   "metadata": {},
   "source": [
    "### Start Limactl"
   ]
  },
  {
   "cell_type": "code",
   "execution_count": null,
   "id": "923bbced",
   "metadata": {},
   "outputs": [],
   "source": [
    "limactl start default.yaml"
   ]
  },
  {
   "cell_type": "markdown",
   "id": "563a77f6",
   "metadata": {},
   "source": [
    "### Test Nerdctl"
   ]
  },
  {
   "cell_type": "code",
   "execution_count": null,
   "id": "804b41a3",
   "metadata": {},
   "outputs": [],
   "source": [
    "lima nerdctl"
   ]
  },
  {
   "cell_type": "markdown",
   "id": "3effca6f",
   "metadata": {},
   "source": [
    "### Alias to Docker (Optional)\n",
    "\n",
    "Alias nerdctl to docker if you want. For example if you have replaced docker with this guide or do not already have docker installed."
   ]
  },
  {
   "cell_type": "code",
   "execution_count": null,
   "id": "b38a645e",
   "metadata": {},
   "outputs": [],
   "source": [
    "alias docker=\"lima nerdctl\""
   ]
  }
 ],
 "metadata": {
  "kernelspec": {
   "display_name": "Bash",
   "language": "bash",
   "name": "bash"
  },
  "language_info": {
   "codemirror_mode": "shell",
   "file_extension": ".sh",
   "mimetype": "text/x-sh",
   "name": "bash"
  }
 },
 "nbformat": 4,
 "nbformat_minor": 5
}
